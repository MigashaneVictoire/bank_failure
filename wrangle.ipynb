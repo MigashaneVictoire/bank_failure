{
 "cells": [
  {
   "cell_type": "markdown",
   "id": "03431c77-4cc3-4807-9231-3dfd3b9d9b13",
   "metadata": {},
   "source": [
    "## Accquire\n",
    "\n",
    "**imports**"
   ]
  },
  {
   "cell_type": "code",
   "execution_count": 1,
   "id": "a113ea8a-30e2-4b55-ae58-11c156d95e3a",
   "metadata": {},
   "outputs": [],
   "source": [
    "# data manipulation\n",
    "import pandas as pd\n",
    "import numpy as np\n",
    "from datetime import datetime\n",
    "\n",
    "# data\n",
    "import requests\n",
    "\n",
    "# data visualization\n",
    "import matplotlib.pyplot as plt\n",
    "import seaborn as sns\n",
    "\n",
    "# spliting the data\n",
    "from sklearn.model_selection import TimeSeriesSplit\n",
    "from math import ceil\n",
    "\n",
    "# system manipulation\n",
    "import sys\n",
    "sys.path.append(\"./util_\")\n",
    "# import acquire_\n",
    "import prepare_\n",
    "\n",
    "# other\n",
    "import warnings\n",
    "warnings.filterwarnings(\"ignore\")"
   ]
  },
  {
   "cell_type": "markdown",
   "id": "25d92abd-75f0-486e-9d7a-3a811f965928",
   "metadata": {},
   "source": [
    "**Get data**\n",
    "\n",
    "Data from FDIC on [data.gov](https://catalog.data.gov/dataset/fdic-failed-bank-list)"
   ]
  },
  {
   "cell_type": "code",
   "execution_count": 2,
   "id": "f7b089c9-3bc0-41ec-9dfb-7c1c5cc7952f",
   "metadata": {},
   "outputs": [],
   "source": [
    "# get data with request link\n",
    "responce = requests.get(\"https://catalog.data.gov/harvest/object/cb22fea9-0c90-43e9-94bf-903eacd37c92\")\n",
    "\n",
    "# locate csv url\n",
    "data_url = responce.json()[\"distribution\"][0][\"downloadURL\"]"
   ]
  },
  {
   "cell_type": "code",
   "execution_count": 3,
   "id": "3adb2c1c-1e0c-4b81-a88c-213b233d2fed",
   "metadata": {},
   "outputs": [],
   "source": [
    "# Try different encodings one by one until one works without an error\n",
    "encodings_to_try = ['utf-8', 'ISO-8859-1', 'utf-16']\n",
    "\n",
    "for encoding in encodings_to_try:\n",
    "    try:\n",
    "        # Read the CSV file from the URL with the specified encoding\n",
    "        bank = pd.read_csv(data_url, encoding=encoding)\n",
    "        # If no error occurs, break the loop and continue with further processing\n",
    "        break\n",
    "    except UnicodeDecodeError:\n",
    "        # If an error occurs with the current encoding, try the next one\n",
    "        continue"
   ]
  },
  {
   "cell_type": "code",
   "execution_count": 4,
   "id": "e7ed3a55-943d-441b-90cf-1475e7de2441",
   "metadata": {},
   "outputs": [
    {
     "data": {
      "text/html": [
       "<div>\n",
       "<style scoped>\n",
       "    .dataframe tbody tr th:only-of-type {\n",
       "        vertical-align: middle;\n",
       "    }\n",
       "\n",
       "    .dataframe tbody tr th {\n",
       "        vertical-align: top;\n",
       "    }\n",
       "\n",
       "    .dataframe thead th {\n",
       "        text-align: right;\n",
       "    }\n",
       "</style>\n",
       "<table border=\"1\" class=\"dataframe\">\n",
       "  <thead>\n",
       "    <tr style=\"text-align: right;\">\n",
       "      <th></th>\n",
       "      <th>Bank Name</th>\n",
       "      <th>City</th>\n",
       "      <th>State</th>\n",
       "      <th>Cert</th>\n",
       "      <th>Acquiring Institution</th>\n",
       "      <th>Closing Date</th>\n",
       "      <th>Fund</th>\n",
       "    </tr>\n",
       "  </thead>\n",
       "  <tbody>\n",
       "    <tr>\n",
       "      <th>0</th>\n",
       "      <td>Heartland Tri-State Bank</td>\n",
       "      <td>Elkhart</td>\n",
       "      <td>KS</td>\n",
       "      <td>25851</td>\n",
       "      <td>Dream First Bank, N.A.</td>\n",
       "      <td>28-Jul-23</td>\n",
       "      <td>10544</td>\n",
       "    </tr>\n",
       "    <tr>\n",
       "      <th>1</th>\n",
       "      <td>First Republic Bank</td>\n",
       "      <td>San Francisco</td>\n",
       "      <td>CA</td>\n",
       "      <td>59017</td>\n",
       "      <td>JPMorgan Chase Bank, N.A.</td>\n",
       "      <td>1-May-23</td>\n",
       "      <td>10543</td>\n",
       "    </tr>\n",
       "    <tr>\n",
       "      <th>2</th>\n",
       "      <td>Signature Bank</td>\n",
       "      <td>New York</td>\n",
       "      <td>NY</td>\n",
       "      <td>57053</td>\n",
       "      <td>Flagstar Bank, N.A.</td>\n",
       "      <td>12-Mar-23</td>\n",
       "      <td>10540</td>\n",
       "    </tr>\n",
       "    <tr>\n",
       "      <th>3</th>\n",
       "      <td>Silicon Valley Bank</td>\n",
       "      <td>Santa Clara</td>\n",
       "      <td>CA</td>\n",
       "      <td>24735</td>\n",
       "      <td>FirstCitizens Bank &amp; Trust Company</td>\n",
       "      <td>10-Mar-23</td>\n",
       "      <td>10539</td>\n",
       "    </tr>\n",
       "    <tr>\n",
       "      <th>4</th>\n",
       "      <td>Almena State Bank</td>\n",
       "      <td>Almena</td>\n",
       "      <td>KS</td>\n",
       "      <td>15426</td>\n",
       "      <td>Equity Bank</td>\n",
       "      <td>23-Oct-20</td>\n",
       "      <td>10538</td>\n",
       "    </tr>\n",
       "    <tr>\n",
       "      <th>...</th>\n",
       "      <td>...</td>\n",
       "      <td>...</td>\n",
       "      <td>...</td>\n",
       "      <td>...</td>\n",
       "      <td>...</td>\n",
       "      <td>...</td>\n",
       "      <td>...</td>\n",
       "    </tr>\n",
       "    <tr>\n",
       "      <th>562</th>\n",
       "      <td>Superior Bank, FSB</td>\n",
       "      <td>Hinsdale</td>\n",
       "      <td>IL</td>\n",
       "      <td>32646</td>\n",
       "      <td>Superior Federal, FSB</td>\n",
       "      <td>27-Jul-01</td>\n",
       "      <td>6004</td>\n",
       "    </tr>\n",
       "    <tr>\n",
       "      <th>563</th>\n",
       "      <td>Malta National Bank</td>\n",
       "      <td>Malta</td>\n",
       "      <td>OH</td>\n",
       "      <td>6629</td>\n",
       "      <td>North Valley Bank</td>\n",
       "      <td>3-May-01</td>\n",
       "      <td>4648</td>\n",
       "    </tr>\n",
       "    <tr>\n",
       "      <th>564</th>\n",
       "      <td>First Alliance Bank &amp; Trust Co.</td>\n",
       "      <td>Manchester</td>\n",
       "      <td>NH</td>\n",
       "      <td>34264</td>\n",
       "      <td>Southern New Hampshire Bank &amp; Trust</td>\n",
       "      <td>2-Feb-01</td>\n",
       "      <td>4647</td>\n",
       "    </tr>\n",
       "    <tr>\n",
       "      <th>565</th>\n",
       "      <td>National State Bank of Metropolis</td>\n",
       "      <td>Metropolis</td>\n",
       "      <td>IL</td>\n",
       "      <td>3815</td>\n",
       "      <td>Banterra Bank of Marion</td>\n",
       "      <td>14-Dec-00</td>\n",
       "      <td>4646</td>\n",
       "    </tr>\n",
       "    <tr>\n",
       "      <th>566</th>\n",
       "      <td>Bank of Honolulu</td>\n",
       "      <td>Honolulu</td>\n",
       "      <td>HI</td>\n",
       "      <td>21029</td>\n",
       "      <td>Bank of the Orient</td>\n",
       "      <td>13-Oct-00</td>\n",
       "      <td>4645</td>\n",
       "    </tr>\n",
       "  </tbody>\n",
       "</table>\n",
       "<p>567 rows × 7 columns</p>\n",
       "</div>"
      ],
      "text/plain": [
       "                            Bank Name           City  State   Cert   \\\n",
       "0             Heartland Tri-State Bank        Elkhart     KS  25851   \n",
       "1                  First Republic Bank  San Francisco     CA  59017   \n",
       "2                       Signature Bank       New York     NY  57053   \n",
       "3                  Silicon Valley Bank    Santa Clara     CA  24735   \n",
       "4                    Almena State Bank         Almena     KS  15426   \n",
       "..                                 ...            ...    ...    ...   \n",
       "562                 Superior Bank, FSB       Hinsdale     IL  32646   \n",
       "563                Malta National Bank          Malta     OH   6629   \n",
       "564    First Alliance Bank & Trust Co.     Manchester     NH  34264   \n",
       "565  National State Bank of Metropolis     Metropolis     IL   3815   \n",
       "566                   Bank of Honolulu       Honolulu     HI  21029   \n",
       "\n",
       "                  Acquiring Institution  Closing Date    Fund  \n",
       "0                 Dream First Bank, N.A.     28-Jul-23  10544  \n",
       "1              JPMorgan Chase Bank, N.A.      1-May-23  10543  \n",
       "2                    Flagstar Bank, N.A.     12-Mar-23  10540  \n",
       "3    FirstCitizens Bank & Trust Company     10-Mar-23  10539  \n",
       "4                            Equity Bank     23-Oct-20  10538  \n",
       "..                                   ...           ...    ...  \n",
       "562                Superior Federal, FSB     27-Jul-01   6004  \n",
       "563                    North Valley Bank      3-May-01   4648  \n",
       "564  Southern New Hampshire Bank & Trust      2-Feb-01   4647  \n",
       "565              Banterra Bank of Marion     14-Dec-00   4646  \n",
       "566                   Bank of the Orient     13-Oct-00   4645  \n",
       "\n",
       "[567 rows x 7 columns]"
      ]
     },
     "execution_count": 4,
     "metadata": {},
     "output_type": "execute_result"
    }
   ],
   "source": [
    "bank"
   ]
  },
  {
   "cell_type": "markdown",
   "id": "e6515cb7-7321-4d37-befc-212b11bafe31",
   "metadata": {},
   "source": [
    "**Understand data**"
   ]
  },
  {
   "cell_type": "code",
   "execution_count": 5,
   "id": "aa568fd2-b4c6-4cfe-842c-6f9555762901",
   "metadata": {},
   "outputs": [
    {
     "data": {
      "text/plain": [
       "(567, 7)"
      ]
     },
     "execution_count": 5,
     "metadata": {},
     "output_type": "execute_result"
    }
   ],
   "source": [
    "# look at the shape of the data\n",
    "bank.shape"
   ]
  },
  {
   "cell_type": "code",
   "execution_count": 6,
   "id": "77b3da79-d1bc-4ce0-a4ac-11a4478b535e",
   "metadata": {},
   "outputs": [
    {
     "data": {
      "text/plain": [
       "Index(['Bank Name ', 'City ', 'State ', 'Cert ', 'Acquiring Institution ',\n",
       "       'Closing Date ', 'Fund'],\n",
       "      dtype='object')"
      ]
     },
     "execution_count": 6,
     "metadata": {},
     "output_type": "execute_result"
    }
   ],
   "source": [
    "# what columns are in the data\n",
    "bank.columns"
   ]
  },
  {
   "cell_type": "code",
   "execution_count": 7,
   "id": "412c3fff-9e32-4654-b7b7-6ec6cf5601e6",
   "metadata": {},
   "outputs": [
    {
     "data": {
      "text/plain": [
       "0.0"
      ]
     },
     "execution_count": 7,
     "metadata": {},
     "output_type": "execute_result"
    }
   ],
   "source": [
    "# count all the null values\n",
    "bank.isna().sum().values.sum() / len(bank)"
   ]
  },
  {
   "cell_type": "code",
   "execution_count": 8,
   "id": "7b95c5a9-d43c-4c61-8a9e-1cff3a7340b3",
   "metadata": {},
   "outputs": [
    {
     "name": "stdout",
     "output_type": "stream",
     "text": [
      "<class 'pandas.core.frame.DataFrame'>\n",
      "RangeIndex: 567 entries, 0 to 566\n",
      "Data columns (total 7 columns):\n",
      " #   Column                  Non-Null Count  Dtype \n",
      "---  ------                  --------------  ----- \n",
      " 0   Bank Name               567 non-null    object\n",
      " 1   City                    567 non-null    object\n",
      " 2   State                   567 non-null    object\n",
      " 3   Cert                    567 non-null    int64 \n",
      " 4   Acquiring Institution   567 non-null    object\n",
      " 5   Closing Date            567 non-null    object\n",
      " 6   Fund                    567 non-null    int64 \n",
      "dtypes: int64(2), object(5)\n",
      "memory usage: 31.1+ KB\n"
     ]
    }
   ],
   "source": [
    "# look at the bak infromation\n",
    "bank.info()"
   ]
  },
  {
   "cell_type": "code",
   "execution_count": 9,
   "id": "b134003a-f37d-433a-8c87-cf4463e68e73",
   "metadata": {},
   "outputs": [
    {
     "data": {
      "text/html": [
       "<div>\n",
       "<style scoped>\n",
       "    .dataframe tbody tr th:only-of-type {\n",
       "        vertical-align: middle;\n",
       "    }\n",
       "\n",
       "    .dataframe tbody tr th {\n",
       "        vertical-align: top;\n",
       "    }\n",
       "\n",
       "    .dataframe thead th {\n",
       "        text-align: right;\n",
       "    }\n",
       "</style>\n",
       "<table border=\"1\" class=\"dataframe\">\n",
       "  <thead>\n",
       "    <tr style=\"text-align: right;\">\n",
       "      <th></th>\n",
       "      <th>Cert</th>\n",
       "      <th>Fund</th>\n",
       "    </tr>\n",
       "  </thead>\n",
       "  <tbody>\n",
       "    <tr>\n",
       "      <th>count</th>\n",
       "      <td>567.000000</td>\n",
       "      <td>567.000000</td>\n",
       "    </tr>\n",
       "    <tr>\n",
       "      <th>mean</th>\n",
       "      <td>31701.056437</td>\n",
       "      <td>10040.435626</td>\n",
       "    </tr>\n",
       "    <tr>\n",
       "      <th>std</th>\n",
       "      <td>16464.762790</td>\n",
       "      <td>1112.193881</td>\n",
       "    </tr>\n",
       "    <tr>\n",
       "      <th>min</th>\n",
       "      <td>91.000000</td>\n",
       "      <td>4645.000000</td>\n",
       "    </tr>\n",
       "    <tr>\n",
       "      <th>25%</th>\n",
       "      <td>20159.000000</td>\n",
       "      <td>10117.500000</td>\n",
       "    </tr>\n",
       "    <tr>\n",
       "      <th>50%</th>\n",
       "      <td>32165.000000</td>\n",
       "      <td>10259.000000</td>\n",
       "    </tr>\n",
       "    <tr>\n",
       "      <th>75%</th>\n",
       "      <td>35375.500000</td>\n",
       "      <td>10400.500000</td>\n",
       "    </tr>\n",
       "    <tr>\n",
       "      <th>max</th>\n",
       "      <td>59017.000000</td>\n",
       "      <td>10544.000000</td>\n",
       "    </tr>\n",
       "  </tbody>\n",
       "</table>\n",
       "</div>"
      ],
      "text/plain": [
       "              Cert           Fund\n",
       "count    567.000000    567.000000\n",
       "mean   31701.056437  10040.435626\n",
       "std    16464.762790   1112.193881\n",
       "min       91.000000   4645.000000\n",
       "25%    20159.000000  10117.500000\n",
       "50%    32165.000000  10259.000000\n",
       "75%    35375.500000  10400.500000\n",
       "max    59017.000000  10544.000000"
      ]
     },
     "execution_count": 9,
     "metadata": {},
     "output_type": "execute_result"
    }
   ],
   "source": [
    "# look at the distribution of the data\n",
    "bank.describe()"
   ]
  },
  {
   "cell_type": "code",
   "execution_count": 10,
   "id": "842edf76-a3d8-44aa-acbe-ab6443b7b876",
   "metadata": {},
   "outputs": [
    {
     "name": "stdout",
     "output_type": "stream",
     "text": [
      "Numeric col count: 2\n",
      "object col count: 5\n"
     ]
    }
   ],
   "source": [
    "# count of numeric columns and object columns\n",
    "numerics_count = len(bank.select_dtypes(\"number\").columns)\n",
    "objects_count = len(bank.select_dtypes(\"object\").columns)\n",
    "\n",
    "print(\"Numeric col count:\", numerics_count)\n",
    "print(\"object col count:\", objects_count)"
   ]
  },
  {
   "cell_type": "markdown",
   "id": "b76d01c7-6ae7-4916-a6db-d06cbdd3d2d5",
   "metadata": {},
   "source": [
    "Take aways:\n",
    "\n",
    "- I have 566 rows and 7 columns\n",
    "- 2 numeric columns and 5 string columns\n",
    "- 0 null count\n",
    "- I also have descriptive statistics of my data"
   ]
  },
  {
   "cell_type": "markdown",
   "id": "5ad96db3-484e-477b-a0c4-cdc98c59ab9c",
   "metadata": {},
   "source": [
    "## Prepare"
   ]
  },
  {
   "cell_type": "markdown",
   "id": "424ea555-7a58-4823-9c0e-6f0d03aa29bd",
   "metadata": {},
   "source": [
    "**Rename columns**"
   ]
  },
  {
   "cell_type": "code",
   "execution_count": 11,
   "id": "e5177853-2793-45f1-9d26-cbe106d467b8",
   "metadata": {},
   "outputs": [
    {
     "data": {
      "text/html": [
       "<div>\n",
       "<style scoped>\n",
       "    .dataframe tbody tr th:only-of-type {\n",
       "        vertical-align: middle;\n",
       "    }\n",
       "\n",
       "    .dataframe tbody tr th {\n",
       "        vertical-align: top;\n",
       "    }\n",
       "\n",
       "    .dataframe thead th {\n",
       "        text-align: right;\n",
       "    }\n",
       "</style>\n",
       "<table border=\"1\" class=\"dataframe\">\n",
       "  <thead>\n",
       "    <tr style=\"text-align: right;\">\n",
       "      <th></th>\n",
       "      <th>bank_name</th>\n",
       "      <th>city</th>\n",
       "      <th>state</th>\n",
       "      <th>cert</th>\n",
       "      <th>acquiring_institution</th>\n",
       "      <th>closing_date</th>\n",
       "      <th>fund</th>\n",
       "    </tr>\n",
       "  </thead>\n",
       "  <tbody>\n",
       "    <tr>\n",
       "      <th>0</th>\n",
       "      <td>Heartland Tri-State Bank</td>\n",
       "      <td>Elkhart</td>\n",
       "      <td>KS</td>\n",
       "      <td>25851</td>\n",
       "      <td>Dream First Bank, N.A.</td>\n",
       "      <td>28-Jul-23</td>\n",
       "      <td>10544</td>\n",
       "    </tr>\n",
       "  </tbody>\n",
       "</table>\n",
       "</div>"
      ],
      "text/plain": [
       "                  bank_name     city state   cert   acquiring_institution  \\\n",
       "0  Heartland Tri-State Bank  Elkhart    KS  25851  Dream First Bank, N.A.   \n",
       "\n",
       "  closing_date   fund  \n",
       "0    28-Jul-23  10544  "
      ]
     },
     "execution_count": 11,
     "metadata": {},
     "output_type": "execute_result"
    }
   ],
   "source": [
    "# make the columsn lower case\n",
    "# replace spaces\n",
    "bank.columns = bank.columns.str.lower().str.strip().str.replace(\"†\",\"\").str.replace(\" \",\"_\")\n",
    "bank.head(1)"
   ]
  },
  {
   "cell_type": "markdown",
   "id": "8254a94b-3ec7-4e03-9d4a-e8cf1dc3c67e",
   "metadata": {},
   "source": [
    "**Convert data types**"
   ]
  },
  {
   "cell_type": "code",
   "execution_count": 12,
   "id": "b106f274-c1ef-4543-a106-86069fa2f0c0",
   "metadata": {},
   "outputs": [
    {
     "data": {
      "text/plain": [
       "bank_name                object\n",
       "city                     object\n",
       "state                    object\n",
       "cert                      int64\n",
       "acquiring_institution    object\n",
       "closing_date             object\n",
       "fund                      int64\n",
       "dtype: object"
      ]
     },
     "execution_count": 12,
     "metadata": {},
     "output_type": "execute_result"
    }
   ],
   "source": [
    "# view datatypes\n",
    "bank.dtypes"
   ]
  },
  {
   "cell_type": "code",
   "execution_count": 13,
   "id": "0c7ce816-45c8-44e0-abba-c7da5d650bd5",
   "metadata": {},
   "outputs": [
    {
     "name": "stdout",
     "output_type": "stream",
     "text": [
      "____________________ BANK_NAME\n",
      "1    535\n",
      "2     10\n",
      "3      4\n",
      "Name: bank_name, dtype: int64\n",
      "____________________ CITY\n",
      "1     360\n",
      "2      53\n",
      "3      12\n",
      "4       6\n",
      "20      1\n",
      "10      1\n",
      "6       1\n",
      "5       1\n",
      "Name: city, dtype: int64\n",
      "____________________ STATE\n",
      "1     5\n",
      "2     5\n",
      "4     4\n",
      "7     4\n",
      "10    4\n",
      "3     3\n",
      "16    2\n",
      "6     2\n",
      "12    2\n",
      "8     2\n",
      "9     1\n",
      "5     1\n",
      "93    1\n",
      "76    1\n",
      "13    1\n",
      "14    1\n",
      "19    1\n",
      "23    1\n",
      "43    1\n",
      "69    1\n",
      "11    1\n",
      "Name: state, dtype: int64\n",
      "____________________ CERT\n",
      "1    567\n",
      "Name: cert, dtype: int64\n",
      "____________________ ACQUIRING_INSTITUTION\n",
      "1     202\n",
      "2      45\n",
      "3      22\n",
      "4      12\n",
      "5       7\n",
      "6       4\n",
      "7       3\n",
      "31      1\n",
      "12      1\n",
      "11      1\n",
      "10      1\n",
      "9       1\n",
      "8       1\n",
      "Name: acquiring_institution, dtype: int64\n",
      "____________________ CLOSING_DATE\n",
      "1    147\n",
      "2     37\n",
      "3     29\n",
      "4     20\n",
      "5     11\n",
      "7      9\n",
      "6      6\n",
      "8      2\n",
      "9      1\n",
      "Name: closing_date, dtype: int64\n",
      "____________________ FUND\n",
      "1    567\n",
      "Name: fund, dtype: int64\n"
     ]
    }
   ],
   "source": [
    "# count the unique value counts in each column\n",
    "for i in bank.columns:\n",
    "    print(\"_\" * 20, i.upper())\n",
    "    print(bank[i].value_counts().value_counts())"
   ]
  },
  {
   "cell_type": "code",
   "execution_count": 14,
   "id": "e8d6e0e9-0b13-4776-911f-74328065e897",
   "metadata": {},
   "outputs": [],
   "source": [
    "# covert closing_date data type to date time\n",
    "bank.closing_date = bank.closing_date.astype(\"datetime64\")"
   ]
  },
  {
   "cell_type": "markdown",
   "id": "97b5e438-a1c8-4dea-9a3c-d720a1555680",
   "metadata": {},
   "source": [
    "**Drop columns**"
   ]
  },
  {
   "cell_type": "code",
   "execution_count": 15,
   "id": "ae699ab7-6f42-4289-ae01-3b54c8dad4a7",
   "metadata": {},
   "outputs": [],
   "source": [
    "# remove redundent columns\n",
    "bank = bank.drop(columns=[\"cert\"])"
   ]
  },
  {
   "cell_type": "markdown",
   "id": "86dea2fc-db29-4f3b-a5c5-d32805a404a4",
   "metadata": {},
   "source": [
    "**Drop duplicates**"
   ]
  },
  {
   "cell_type": "code",
   "execution_count": 16,
   "id": "c3ec02c9-6c01-4a5b-b5d7-37c2aa65958c",
   "metadata": {},
   "outputs": [],
   "source": [
    "# remove duplicated rows\n",
    "bank = bank.drop_duplicates()"
   ]
  },
  {
   "cell_type": "code",
   "execution_count": 17,
   "id": "d165f9e6-a059-458b-8119-d58560201996",
   "metadata": {},
   "outputs": [
    {
     "data": {
      "text/html": [
       "<div>\n",
       "<style scoped>\n",
       "    .dataframe tbody tr th:only-of-type {\n",
       "        vertical-align: middle;\n",
       "    }\n",
       "\n",
       "    .dataframe tbody tr th {\n",
       "        vertical-align: top;\n",
       "    }\n",
       "\n",
       "    .dataframe thead th {\n",
       "        text-align: right;\n",
       "    }\n",
       "</style>\n",
       "<table border=\"1\" class=\"dataframe\">\n",
       "  <thead>\n",
       "    <tr style=\"text-align: right;\">\n",
       "      <th></th>\n",
       "      <th>bank_name</th>\n",
       "      <th>city</th>\n",
       "      <th>state</th>\n",
       "      <th>acquiring_institution</th>\n",
       "      <th>closing_date</th>\n",
       "      <th>fund</th>\n",
       "    </tr>\n",
       "  </thead>\n",
       "  <tbody>\n",
       "    <tr>\n",
       "      <th>479</th>\n",
       "      <td>Citizens National Bank</td>\n",
       "      <td>Macomb</td>\n",
       "      <td>IL</td>\n",
       "      <td>Morton Community Bank</td>\n",
       "      <td>2009-05-22</td>\n",
       "      <td>10063</td>\n",
       "    </tr>\n",
       "    <tr>\n",
       "      <th>402</th>\n",
       "      <td>Citizens National Bank</td>\n",
       "      <td>Teague</td>\n",
       "      <td>TX</td>\n",
       "      <td>U.S. Bank N.A.</td>\n",
       "      <td>2009-10-30</td>\n",
       "      <td>10141</td>\n",
       "    </tr>\n",
       "    <tr>\n",
       "      <th>290</th>\n",
       "      <td>First National Bank</td>\n",
       "      <td>Savannah</td>\n",
       "      <td>GA</td>\n",
       "      <td>The Savannah Bank, N.A.</td>\n",
       "      <td>2010-06-25</td>\n",
       "      <td>10251</td>\n",
       "    </tr>\n",
       "    <tr>\n",
       "      <th>296</th>\n",
       "      <td>First National Bank</td>\n",
       "      <td>Rosedale</td>\n",
       "      <td>MS</td>\n",
       "      <td>The Jefferson Bank</td>\n",
       "      <td>2010-06-04</td>\n",
       "      <td>10247</td>\n",
       "    </tr>\n",
       "    <tr>\n",
       "      <th>139</th>\n",
       "      <td>First State Bank</td>\n",
       "      <td>Cranford</td>\n",
       "      <td>NJ</td>\n",
       "      <td>Northfield Bank</td>\n",
       "      <td>2011-10-14</td>\n",
       "      <td>10403</td>\n",
       "    </tr>\n",
       "    <tr>\n",
       "      <th>445</th>\n",
       "      <td>First State Bank</td>\n",
       "      <td>Sarasota</td>\n",
       "      <td>FL</td>\n",
       "      <td>Stearns Bank, N.A.</td>\n",
       "      <td>2009-08-07</td>\n",
       "      <td>10098</td>\n",
       "    </tr>\n",
       "    <tr>\n",
       "      <th>426</th>\n",
       "      <td>First State Bank</td>\n",
       "      <td>Flagstaff</td>\n",
       "      <td>AZ</td>\n",
       "      <td>Sunwest Bank</td>\n",
       "      <td>2009-09-04</td>\n",
       "      <td>10114</td>\n",
       "    </tr>\n",
       "    <tr>\n",
       "      <th>71</th>\n",
       "      <td>Frontier Bank</td>\n",
       "      <td>LaGrange</td>\n",
       "      <td>GA</td>\n",
       "      <td>HeritageBank of the South</td>\n",
       "      <td>2013-03-08</td>\n",
       "      <td>10471</td>\n",
       "    </tr>\n",
       "    <tr>\n",
       "      <th>311</th>\n",
       "      <td>Frontier Bank</td>\n",
       "      <td>Everett</td>\n",
       "      <td>WA</td>\n",
       "      <td>Union Bank, N.A.</td>\n",
       "      <td>2010-04-30</td>\n",
       "      <td>10228</td>\n",
       "    </tr>\n",
       "    <tr>\n",
       "      <th>256</th>\n",
       "      <td>Horizon Bank</td>\n",
       "      <td>Bradenton</td>\n",
       "      <td>FL</td>\n",
       "      <td>Bank of the Ozarks</td>\n",
       "      <td>2010-09-10</td>\n",
       "      <td>10286</td>\n",
       "    </tr>\n",
       "    <tr>\n",
       "      <th>472</th>\n",
       "      <td>Horizon Bank</td>\n",
       "      <td>Pine City</td>\n",
       "      <td>MN</td>\n",
       "      <td>Stearns Bank, N.A.</td>\n",
       "      <td>2009-06-26</td>\n",
       "      <td>10070</td>\n",
       "    </tr>\n",
       "    <tr>\n",
       "      <th>374</th>\n",
       "      <td>Horizon Bank</td>\n",
       "      <td>Bellingham</td>\n",
       "      <td>WA</td>\n",
       "      <td>Washington Federal Savings and Loan Association</td>\n",
       "      <td>2010-01-08</td>\n",
       "      <td>10168</td>\n",
       "    </tr>\n",
       "    <tr>\n",
       "      <th>530</th>\n",
       "      <td>Integrity Bank</td>\n",
       "      <td>Alpharetta</td>\n",
       "      <td>GA</td>\n",
       "      <td>Regions Bank</td>\n",
       "      <td>2008-08-29</td>\n",
       "      <td>10012</td>\n",
       "    </tr>\n",
       "    <tr>\n",
       "      <th>449</th>\n",
       "      <td>Integrity Bank</td>\n",
       "      <td>Jupiter</td>\n",
       "      <td>FL</td>\n",
       "      <td>Stonegate Bank</td>\n",
       "      <td>2009-07-31</td>\n",
       "      <td>10095</td>\n",
       "    </tr>\n",
       "    <tr>\n",
       "      <th>193</th>\n",
       "      <td>Legacy Bank</td>\n",
       "      <td>Milwaukee</td>\n",
       "      <td>WI</td>\n",
       "      <td>Seaway Bank and Trust Company</td>\n",
       "      <td>2011-03-11</td>\n",
       "      <td>10348</td>\n",
       "    </tr>\n",
       "    <tr>\n",
       "      <th>216</th>\n",
       "      <td>Legacy Bank</td>\n",
       "      <td>Scottsdale</td>\n",
       "      <td>AZ</td>\n",
       "      <td>Enterprise Bank &amp; Trust</td>\n",
       "      <td>2011-01-07</td>\n",
       "      <td>10326</td>\n",
       "    </tr>\n",
       "    <tr>\n",
       "      <th>321</th>\n",
       "      <td>New Century Bank</td>\n",
       "      <td>Chicago</td>\n",
       "      <td>IL</td>\n",
       "      <td>MB Financial Bank, N.A.</td>\n",
       "      <td>2010-04-23</td>\n",
       "      <td>10222</td>\n",
       "    </tr>\n",
       "    <tr>\n",
       "      <th>555</th>\n",
       "      <td>New Century Bank</td>\n",
       "      <td>Shelby Township</td>\n",
       "      <td>MI</td>\n",
       "      <td>No Acquirer</td>\n",
       "      <td>2002-03-28</td>\n",
       "      <td>4655</td>\n",
       "    </tr>\n",
       "    <tr>\n",
       "      <th>111</th>\n",
       "      <td>Premier Bank</td>\n",
       "      <td>Wilmette</td>\n",
       "      <td>IL</td>\n",
       "      <td>International Bank of Chicago</td>\n",
       "      <td>2012-03-23</td>\n",
       "      <td>10431</td>\n",
       "    </tr>\n",
       "    <tr>\n",
       "      <th>27</th>\n",
       "      <td>Premier Bank</td>\n",
       "      <td>Denver</td>\n",
       "      <td>CO</td>\n",
       "      <td>United Fidelity Bank, fsb</td>\n",
       "      <td>2015-07-10</td>\n",
       "      <td>10515</td>\n",
       "    </tr>\n",
       "    <tr>\n",
       "      <th>243</th>\n",
       "      <td>Premier Bank</td>\n",
       "      <td>Jefferson City</td>\n",
       "      <td>MO</td>\n",
       "      <td>Providence Bank</td>\n",
       "      <td>2010-10-15</td>\n",
       "      <td>10297</td>\n",
       "    </tr>\n",
       "    <tr>\n",
       "      <th>167</th>\n",
       "      <td>Signature Bank</td>\n",
       "      <td>Windsor</td>\n",
       "      <td>CO</td>\n",
       "      <td>Points West Community Bank</td>\n",
       "      <td>2011-07-08</td>\n",
       "      <td>10375</td>\n",
       "    </tr>\n",
       "    <tr>\n",
       "      <th>2</th>\n",
       "      <td>Signature Bank</td>\n",
       "      <td>New York</td>\n",
       "      <td>NY</td>\n",
       "      <td>Flagstar Bank, N.A.</td>\n",
       "      <td>2023-03-12</td>\n",
       "      <td>10540</td>\n",
       "    </tr>\n",
       "    <tr>\n",
       "      <th>175</th>\n",
       "      <td>Summit Bank</td>\n",
       "      <td>Burlington</td>\n",
       "      <td>WA</td>\n",
       "      <td>Columbia State Bank</td>\n",
       "      <td>2011-05-20</td>\n",
       "      <td>10367</td>\n",
       "    </tr>\n",
       "    <tr>\n",
       "      <th>163</th>\n",
       "      <td>Summit Bank</td>\n",
       "      <td>Prescott</td>\n",
       "      <td>AZ</td>\n",
       "      <td>The Foothills Bank</td>\n",
       "      <td>2011-07-15</td>\n",
       "      <td>10379</td>\n",
       "    </tr>\n",
       "    <tr>\n",
       "      <th>210</th>\n",
       "      <td>The First State Bank</td>\n",
       "      <td>Camargo</td>\n",
       "      <td>OK</td>\n",
       "      <td>Bank 7</td>\n",
       "      <td>2011-01-28</td>\n",
       "      <td>10335</td>\n",
       "    </tr>\n",
       "    <tr>\n",
       "      <th>124</th>\n",
       "      <td>The First State Bank</td>\n",
       "      <td>Stockbridge</td>\n",
       "      <td>GA</td>\n",
       "      <td>Hamilton State Bank</td>\n",
       "      <td>2012-01-20</td>\n",
       "      <td>10419</td>\n",
       "    </tr>\n",
       "    <tr>\n",
       "      <th>6</th>\n",
       "      <td>The First State Bank</td>\n",
       "      <td>Barboursville</td>\n",
       "      <td>WV</td>\n",
       "      <td>MVB Bank, Inc.</td>\n",
       "      <td>2020-04-03</td>\n",
       "      <td>10536</td>\n",
       "    </tr>\n",
       "    <tr>\n",
       "      <th>180</th>\n",
       "      <td>The Park Avenue Bank</td>\n",
       "      <td>Valdosta</td>\n",
       "      <td>GA</td>\n",
       "      <td>Bank of the Ozarks</td>\n",
       "      <td>2011-04-29</td>\n",
       "      <td>10363</td>\n",
       "    </tr>\n",
       "    <tr>\n",
       "      <th>347</th>\n",
       "      <td>The Park Avenue Bank</td>\n",
       "      <td>New York</td>\n",
       "      <td>NY</td>\n",
       "      <td>Valley National Bank</td>\n",
       "      <td>2010-03-12</td>\n",
       "      <td>10195</td>\n",
       "    </tr>\n",
       "    <tr>\n",
       "      <th>41</th>\n",
       "      <td>Valley Bank</td>\n",
       "      <td>Moline</td>\n",
       "      <td>IL</td>\n",
       "      <td>Great Southern Bank</td>\n",
       "      <td>2014-06-20</td>\n",
       "      <td>10502</td>\n",
       "    </tr>\n",
       "    <tr>\n",
       "      <th>40</th>\n",
       "      <td>Valley Bank</td>\n",
       "      <td>Fort Lauderdale</td>\n",
       "      <td>FL</td>\n",
       "      <td>Landmark Bank, National Association</td>\n",
       "      <td>2014-06-20</td>\n",
       "      <td>10501</td>\n",
       "    </tr>\n",
       "  </tbody>\n",
       "</table>\n",
       "</div>"
      ],
      "text/plain": [
       "                  bank_name             city state  \\\n",
       "479  Citizens National Bank           Macomb    IL   \n",
       "402  Citizens National Bank           Teague    TX   \n",
       "290     First National Bank         Savannah    GA   \n",
       "296     First National Bank         Rosedale    MS   \n",
       "139        First State Bank         Cranford    NJ   \n",
       "445        First State Bank         Sarasota    FL   \n",
       "426        First State Bank        Flagstaff    AZ   \n",
       "71            Frontier Bank         LaGrange    GA   \n",
       "311           Frontier Bank          Everett    WA   \n",
       "256            Horizon Bank        Bradenton    FL   \n",
       "472            Horizon Bank        Pine City    MN   \n",
       "374            Horizon Bank       Bellingham    WA   \n",
       "530          Integrity Bank       Alpharetta    GA   \n",
       "449          Integrity Bank          Jupiter    FL   \n",
       "193             Legacy Bank        Milwaukee    WI   \n",
       "216             Legacy Bank       Scottsdale    AZ   \n",
       "321        New Century Bank          Chicago    IL   \n",
       "555        New Century Bank  Shelby Township    MI   \n",
       "111            Premier Bank         Wilmette    IL   \n",
       "27             Premier Bank           Denver    CO   \n",
       "243            Premier Bank   Jefferson City    MO   \n",
       "167          Signature Bank          Windsor    CO   \n",
       "2            Signature Bank         New York    NY   \n",
       "175             Summit Bank       Burlington    WA   \n",
       "163             Summit Bank         Prescott    AZ   \n",
       "210    The First State Bank          Camargo    OK   \n",
       "124    The First State Bank      Stockbridge    GA   \n",
       "6      The First State Bank    Barboursville    WV   \n",
       "180    The Park Avenue Bank         Valdosta    GA   \n",
       "347    The Park Avenue Bank         New York    NY   \n",
       "41              Valley Bank           Moline    IL   \n",
       "40              Valley Bank  Fort Lauderdale    FL   \n",
       "\n",
       "                               acquiring_institution closing_date   fund  \n",
       "479                            Morton Community Bank   2009-05-22  10063  \n",
       "402                                   U.S. Bank N.A.   2009-10-30  10141  \n",
       "290                          The Savannah Bank, N.A.   2010-06-25  10251  \n",
       "296                               The Jefferson Bank   2010-06-04  10247  \n",
       "139                                  Northfield Bank   2011-10-14  10403  \n",
       "445                               Stearns Bank, N.A.   2009-08-07  10098  \n",
       "426                                     Sunwest Bank   2009-09-04  10114  \n",
       "71                         HeritageBank of the South   2013-03-08  10471  \n",
       "311                                 Union Bank, N.A.   2010-04-30  10228  \n",
       "256                               Bank of the Ozarks   2010-09-10  10286  \n",
       "472                               Stearns Bank, N.A.   2009-06-26  10070  \n",
       "374  Washington Federal Savings and Loan Association   2010-01-08  10168  \n",
       "530                                     Regions Bank   2008-08-29  10012  \n",
       "449                                   Stonegate Bank   2009-07-31  10095  \n",
       "193                    Seaway Bank and Trust Company   2011-03-11  10348  \n",
       "216                          Enterprise Bank & Trust   2011-01-07  10326  \n",
       "321                          MB Financial Bank, N.A.   2010-04-23  10222  \n",
       "555                                      No Acquirer   2002-03-28   4655  \n",
       "111                    International Bank of Chicago   2012-03-23  10431  \n",
       "27                         United Fidelity Bank, fsb   2015-07-10  10515  \n",
       "243                                  Providence Bank   2010-10-15  10297  \n",
       "167                       Points West Community Bank   2011-07-08  10375  \n",
       "2                                Flagstar Bank, N.A.   2023-03-12  10540  \n",
       "175                              Columbia State Bank   2011-05-20  10367  \n",
       "163                               The Foothills Bank   2011-07-15  10379  \n",
       "210                                           Bank 7   2011-01-28  10335  \n",
       "124                              Hamilton State Bank   2012-01-20  10419  \n",
       "6                                     MVB Bank, Inc.   2020-04-03  10536  \n",
       "180                               Bank of the Ozarks   2011-04-29  10363  \n",
       "347                             Valley National Bank   2010-03-12  10195  \n",
       "41                               Great Southern Bank   2014-06-20  10502  \n",
       "40               Landmark Bank, National Association   2014-06-20  10501  "
      ]
     },
     "execution_count": 17,
     "metadata": {},
     "output_type": "execute_result"
    }
   ],
   "source": [
    "# find dublicated bank names\n",
    "b_name_values = bank.bank_name.value_counts().sort_values()\n",
    "\n",
    "# Filter the DataFrame to get only rows with duplicated bank names\n",
    "bank[bank.bank_name.isin(b_name_values.index[b_name_values > 1])].sort_values(\"bank_name\")"
   ]
  },
  {
   "cell_type": "markdown",
   "id": "af3bbb0b-cd3d-4014-9a9c-238abba2f318",
   "metadata": {},
   "source": [
    "**Set index**"
   ]
  },
  {
   "cell_type": "code",
   "execution_count": 18,
   "id": "85219065-cecb-4861-b90f-dbacb2eb2971",
   "metadata": {},
   "outputs": [
    {
     "data": {
      "text/html": [
       "<div>\n",
       "<style scoped>\n",
       "    .dataframe tbody tr th:only-of-type {\n",
       "        vertical-align: middle;\n",
       "    }\n",
       "\n",
       "    .dataframe tbody tr th {\n",
       "        vertical-align: top;\n",
       "    }\n",
       "\n",
       "    .dataframe thead th {\n",
       "        text-align: right;\n",
       "    }\n",
       "</style>\n",
       "<table border=\"1\" class=\"dataframe\">\n",
       "  <thead>\n",
       "    <tr style=\"text-align: right;\">\n",
       "      <th></th>\n",
       "      <th>bank_name</th>\n",
       "      <th>city</th>\n",
       "      <th>state</th>\n",
       "      <th>acquiring_institution</th>\n",
       "      <th>fund</th>\n",
       "    </tr>\n",
       "    <tr>\n",
       "      <th>closing_date</th>\n",
       "      <th></th>\n",
       "      <th></th>\n",
       "      <th></th>\n",
       "      <th></th>\n",
       "      <th></th>\n",
       "    </tr>\n",
       "  </thead>\n",
       "  <tbody>\n",
       "    <tr>\n",
       "      <th>2023-07-28</th>\n",
       "      <td>Heartland Tri-State Bank</td>\n",
       "      <td>Elkhart</td>\n",
       "      <td>KS</td>\n",
       "      <td>Dream First Bank, N.A.</td>\n",
       "      <td>10544</td>\n",
       "    </tr>\n",
       "  </tbody>\n",
       "</table>\n",
       "</div>"
      ],
      "text/plain": [
       "                             bank_name     city state   acquiring_institution  \\\n",
       "closing_date                                                                    \n",
       "2023-07-28    Heartland Tri-State Bank  Elkhart    KS  Dream First Bank, N.A.   \n",
       "\n",
       "               fund  \n",
       "closing_date         \n",
       "2023-07-28    10544  "
      ]
     },
     "execution_count": 18,
     "metadata": {},
     "output_type": "execute_result"
    }
   ],
   "source": [
    "# set the date to be the indexinf column\n",
    "bank = bank.set_index(\"closing_date\")\n",
    "bank.head(1)"
   ]
  },
  {
   "cell_type": "markdown",
   "id": "b8367497-615c-465a-ab5c-c7d37bbe2c6c",
   "metadata": {},
   "source": [
    "**Plot distributions**"
   ]
  },
  {
   "cell_type": "code",
   "execution_count": 19,
   "id": "5a47a1c5-dbff-4e77-8fed-8f0a51206620",
   "metadata": {},
   "outputs": [
    {
     "data": {
      "image/png": "[encoded data removed]",
      "text/plain": [
       "<Figure size 500x300 with 1 Axes>"
      ]
     },
     "metadata": {},
     "output_type": "display_data"
    }
   ],
   "source": [
    "#  Visualize the distribution\n",
    "plt.figure(figsize=(5,3))\n",
    "bank.fund.plot(kind=\"hist\")\n",
    "plt.title(\"bank fund distribution\".upper)\n",
    "\n",
    "# save visual\n",
    "prepare_.save_visuals_(plt.gcf(), viz_name= \"fund_distribution\")\n",
    "\n",
    "plt.show()"
   ]
  },
  {
   "cell_type": "markdown",
   "id": "96059a96-a862-4cd2-88ee-0bb16b6fd9c0",
   "metadata": {},
   "source": [
    "**Sort datetime index**"
   ]
  },
  {
   "cell_type": "code",
   "execution_count": 20,
   "id": "d436aed2-f9d8-4aaa-868e-ad84e84b1d8c",
   "metadata": {},
   "outputs": [
    {
     "data": {
      "text/html": [
       "<div>\n",
       "<style scoped>\n",
       "    .dataframe tbody tr th:only-of-type {\n",
       "        vertical-align: middle;\n",
       "    }\n",
       "\n",
       "    .dataframe tbody tr th {\n",
       "        vertical-align: top;\n",
       "    }\n",
       "\n",
       "    .dataframe thead th {\n",
       "        text-align: right;\n",
       "    }\n",
       "</style>\n",
       "<table border=\"1\" class=\"dataframe\">\n",
       "  <thead>\n",
       "    <tr style=\"text-align: right;\">\n",
       "      <th></th>\n",
       "      <th>bank_name</th>\n",
       "      <th>city</th>\n",
       "      <th>state</th>\n",
       "      <th>acquiring_institution</th>\n",
       "      <th>fund</th>\n",
       "    </tr>\n",
       "    <tr>\n",
       "      <th>closing_date</th>\n",
       "      <th></th>\n",
       "      <th></th>\n",
       "      <th></th>\n",
       "      <th></th>\n",
       "      <th></th>\n",
       "    </tr>\n",
       "  </thead>\n",
       "  <tbody>\n",
       "    <tr>\n",
       "      <th>2000-10-13</th>\n",
       "      <td>Bank of Honolulu</td>\n",
       "      <td>Honolulu</td>\n",
       "      <td>HI</td>\n",
       "      <td>Bank of the Orient</td>\n",
       "      <td>4645</td>\n",
       "    </tr>\n",
       "    <tr>\n",
       "      <th>2000-12-14</th>\n",
       "      <td>National State Bank of Metropolis</td>\n",
       "      <td>Metropolis</td>\n",
       "      <td>IL</td>\n",
       "      <td>Banterra Bank of Marion</td>\n",
       "      <td>4646</td>\n",
       "    </tr>\n",
       "    <tr>\n",
       "      <th>2001-02-02</th>\n",
       "      <td>First Alliance Bank &amp; Trust Co.</td>\n",
       "      <td>Manchester</td>\n",
       "      <td>NH</td>\n",
       "      <td>Southern New Hampshire Bank &amp; Trust</td>\n",
       "      <td>4647</td>\n",
       "    </tr>\n",
       "    <tr>\n",
       "      <th>2001-05-03</th>\n",
       "      <td>Malta National Bank</td>\n",
       "      <td>Malta</td>\n",
       "      <td>OH</td>\n",
       "      <td>North Valley Bank</td>\n",
       "      <td>4648</td>\n",
       "    </tr>\n",
       "    <tr>\n",
       "      <th>2001-07-27</th>\n",
       "      <td>Superior Bank, FSB</td>\n",
       "      <td>Hinsdale</td>\n",
       "      <td>IL</td>\n",
       "      <td>Superior Federal, FSB</td>\n",
       "      <td>6004</td>\n",
       "    </tr>\n",
       "  </tbody>\n",
       "</table>\n",
       "</div>"
      ],
      "text/plain": [
       "                                      bank_name        city state  \\\n",
       "closing_date                                                        \n",
       "2000-10-13                     Bank of Honolulu    Honolulu    HI   \n",
       "2000-12-14    National State Bank of Metropolis  Metropolis    IL   \n",
       "2001-02-02      First Alliance Bank & Trust Co.  Manchester    NH   \n",
       "2001-05-03                  Malta National Bank       Malta    OH   \n",
       "2001-07-27                   Superior Bank, FSB    Hinsdale    IL   \n",
       "\n",
       "                            acquiring_institution  fund  \n",
       "closing_date                                             \n",
       "2000-10-13                     Bank of the Orient  4645  \n",
       "2000-12-14                Banterra Bank of Marion  4646  \n",
       "2001-02-02    Southern New Hampshire Bank & Trust  4647  \n",
       "2001-05-03                      North Valley Bank  4648  \n",
       "2001-07-27                  Superior Federal, FSB  6004  "
      ]
     },
     "execution_count": 20,
     "metadata": {},
     "output_type": "execute_result"
    }
   ],
   "source": [
    "# reset the index in order\n",
    "bank = bank.sort_index()\n",
    "bank.head()"
   ]
  },
  {
   "cell_type": "markdown",
   "id": "f2eaef30-0d1c-4343-8a96-91385b83d9ae",
   "metadata": {},
   "source": [
    "**Frequency of time**"
   ]
  },
  {
   "cell_type": "code",
   "execution_count": 21,
   "id": "d1068b17-e811-467c-a685-f5ac2c2d932b",
   "metadata": {},
   "outputs": [
    {
     "data": {
      "text/plain": [
       "2009-10-30    9\n",
       "2010-08-20    8\n",
       "2010-04-16    8\n",
       "2010-04-30    7\n",
       "2009-07-24    7\n",
       "             ..\n",
       "2010-04-09    1\n",
       "2010-05-21    1\n",
       "2010-06-11    1\n",
       "2010-06-18    1\n",
       "2023-07-28    1\n",
       "Name: closing_date, Length: 262, dtype: int64"
      ]
     },
     "execution_count": 21,
     "metadata": {},
     "output_type": "execute_result"
    }
   ],
   "source": [
    "# occurrences of each date\n",
    "bank.index.value_counts()"
   ]
  },
  {
   "cell_type": "code",
   "execution_count": 22,
   "id": "380b4bba-e0ec-4389-9465-5441b701cd53",
   "metadata": {},
   "outputs": [
    {
     "data": {
      "text/plain": [
       "1    147\n",
       "2     37\n",
       "3     29\n",
       "4     20\n",
       "5     11\n",
       "7      9\n",
       "6      6\n",
       "8      2\n",
       "9      1\n",
       "Name: closing_date, dtype: int64"
      ]
     },
     "execution_count": 22,
     "metadata": {},
     "output_type": "execute_result"
    }
   ],
   "source": [
    "# occurrences of each dates occurrence\n",
    "bank.index.value_counts().value_counts()"
   ]
  },
  {
   "cell_type": "markdown",
   "id": "b870359d-9331-41fe-a9d9-720100c7c168",
   "metadata": {},
   "source": [
    "**Check for gaps in time**"
   ]
  },
  {
   "cell_type": "code",
   "execution_count": 23,
   "id": "75600f80-5e64-45dc-89d6-30480c308044",
   "metadata": {},
   "outputs": [
    {
     "data": {
      "text/plain": [
       "Timestamp('2000-10-13 00:00:00')"
      ]
     },
     "execution_count": 23,
     "metadata": {},
     "output_type": "execute_result"
    }
   ],
   "source": [
    "# earliest date\n",
    "min_date = bank.index.min()\n",
    "min_date"
   ]
  },
  {
   "cell_type": "code",
   "execution_count": 24,
   "id": "a9209c80-8cbc-468f-b397-316b526b92ec",
   "metadata": {},
   "outputs": [
    {
     "data": {
      "text/plain": [
       "Timestamp('2023-07-28 00:00:00')"
      ]
     },
     "execution_count": 24,
     "metadata": {},
     "output_type": "execute_result"
    }
   ],
   "source": [
    "# latest date\n",
    "max_date = bank.index.max()\n",
    "max_date"
   ]
  },
  {
   "cell_type": "code",
   "execution_count": 25,
   "id": "2c921434-225f-4a8e-891a-5367b41e280b",
   "metadata": {},
   "outputs": [
    {
     "data": {
      "text/plain": [
       "(567, 262)"
      ]
     },
     "execution_count": 25,
     "metadata": {},
     "output_type": "execute_result"
    }
   ],
   "source": [
    "#see how many unique days we actually have\n",
    "bank.shape[0], bank.index.nunique()\n",
    "\n",
    "# here I see that there is a big time gap"
   ]
  },
  {
   "cell_type": "markdown",
   "id": "f247b691-9107-43c9-8939-f1e195f4e113",
   "metadata": {},
   "source": [
    "**Find the missing dates**"
   ]
  },
  {
   "cell_type": "code",
   "execution_count": 26,
   "id": "d48eb4a5-39e1-426f-bf93-1aa275dc762e",
   "metadata": {},
   "outputs": [
    {
     "data": {
      "text/plain": [
       "DatetimeIndex(['2000-10-31', '2000-11-30', '2000-12-31', '2001-01-31',\n",
       "               '2001-02-28', '2001-03-31', '2001-04-30', '2001-05-31',\n",
       "               '2001-06-30', '2001-07-31',\n",
       "               ...\n",
       "               '2022-09-30', '2022-10-31', '2022-11-30', '2022-12-31',\n",
       "               '2023-01-31', '2023-02-28', '2023-03-31', '2023-04-30',\n",
       "               '2023-05-31', '2023-06-30'],\n",
       "              dtype='datetime64[ns]', length=273, freq='M')"
      ]
     },
     "execution_count": 26,
     "metadata": {},
     "output_type": "execute_result"
    }
   ],
   "source": [
    "#establish all the expected dates in our range\n",
    "expected_date_range = pd.date_range(min_date, max_date, freq=\"m\")\n",
    "expected_date_range"
   ]
  },
  {
   "cell_type": "code",
   "execution_count": 27,
   "id": "dc604dca-5245-4c91-8cdc-ca7b87d85609",
   "metadata": {},
   "outputs": [
    {
     "data": {
      "text/plain": [
       "264"
      ]
     },
     "execution_count": 27,
     "metadata": {},
     "output_type": "execute_result"
    }
   ],
   "source": [
    "# now which dates are missing\n",
    "len(expected_date_range.difference(bank.index))"
   ]
  },
  {
   "cell_type": "markdown",
   "id": "9ea6bea5-d15c-4e0e-b6d7-0043f00f94e8",
   "metadata": {},
   "source": [
    "**Create my time target**\n",
    "\n",
    "The time target is simply the difference in day between one closing date and the next."
   ]
  },
  {
   "cell_type": "code",
   "execution_count": 28,
   "id": "82f395aa-988c-4dbf-8df2-1d234fce2884",
   "metadata": {},
   "outputs": [
    {
     "data": {
      "text/plain": [
       "Int64Index([ 62,  50,  90,  85,  42, 126,   7,  14,   6,  22,\n",
       "            ...\n",
       "              0,   7, 105,  49, 196,   7, 868,   2,  50,  88],\n",
       "           dtype='int64', name='closing_date', length=566)"
      ]
     },
     "execution_count": 28,
     "metadata": {},
     "output_type": "execute_result"
    }
   ],
   "source": [
    "# The date below is the next date in line within the dataset\n",
    "date_below = bank.index[1:]\n",
    "\n",
    "# Calculate the time difference between each element in date_below and bank.index\n",
    "time_difference = date_below - bank.index[:-1]\n",
    "\n",
    "# get the days\n",
    "days_diff = time_difference.days\n",
    "days_diff"
   ]
  },
  {
   "cell_type": "code",
   "execution_count": 29,
   "id": "a22616cb-71cc-478c-baa0-ff1ce489f762",
   "metadata": {},
   "outputs": [],
   "source": [
    "# last_close_date is the day of the last failed bank\n",
    "last_day =(bank.index[-1] - bank.index[-1]).days\n",
    "\n",
    "# add last day to the list of days diff\n",
    "days_diff = np.append(days_diff,last_day)\n",
    "\n",
    "# add changes to the dataframe\n",
    "bank[\"days_diff\"] = days_diff"
   ]
  },
  {
   "cell_type": "code",
   "execution_count": 30,
   "id": "1be1a1cb-44a4-4bea-84f4-7380225ca20b",
   "metadata": {},
   "outputs": [
    {
     "data": {
      "text/html": [
       "<div>\n",
       "<style scoped>\n",
       "    .dataframe tbody tr th:only-of-type {\n",
       "        vertical-align: middle;\n",
       "    }\n",
       "\n",
       "    .dataframe tbody tr th {\n",
       "        vertical-align: top;\n",
       "    }\n",
       "\n",
       "    .dataframe thead th {\n",
       "        text-align: right;\n",
       "    }\n",
       "</style>\n",
       "<table border=\"1\" class=\"dataframe\">\n",
       "  <thead>\n",
       "    <tr style=\"text-align: right;\">\n",
       "      <th></th>\n",
       "      <th>bank_name</th>\n",
       "      <th>city</th>\n",
       "      <th>state</th>\n",
       "      <th>acquiring_institution</th>\n",
       "      <th>fund</th>\n",
       "      <th>days_diff</th>\n",
       "    </tr>\n",
       "    <tr>\n",
       "      <th>closing_date</th>\n",
       "      <th></th>\n",
       "      <th></th>\n",
       "      <th></th>\n",
       "      <th></th>\n",
       "      <th></th>\n",
       "      <th></th>\n",
       "    </tr>\n",
       "  </thead>\n",
       "  <tbody>\n",
       "    <tr>\n",
       "      <th>2023-07-28</th>\n",
       "      <td>Heartland Tri-State Bank</td>\n",
       "      <td>Elkhart</td>\n",
       "      <td>KS</td>\n",
       "      <td>Dream First Bank, N.A.</td>\n",
       "      <td>10544</td>\n",
       "      <td>0</td>\n",
       "    </tr>\n",
       "  </tbody>\n",
       "</table>\n",
       "</div>"
      ],
      "text/plain": [
       "                             bank_name     city state   acquiring_institution  \\\n",
       "closing_date                                                                    \n",
       "2023-07-28    Heartland Tri-State Bank  Elkhart    KS  Dream First Bank, N.A.   \n",
       "\n",
       "               fund  days_diff  \n",
       "closing_date                    \n",
       "2023-07-28    10544          0  "
      ]
     },
     "execution_count": 30,
     "metadata": {},
     "output_type": "execute_result"
    }
   ],
   "source": [
    "bank.tail(1)"
   ]
  },
  {
   "cell_type": "markdown",
   "id": "ee17f3ab-b8a9-427b-92de-d9ab277e3a7a",
   "metadata": {},
   "source": [
    "**Plot difference in days over time**"
   ]
  },
  {
   "cell_type": "code",
   "execution_count": 31,
   "id": "b9b7f915-4564-4ac9-8873-37ddd895af6d",
   "metadata": {},
   "outputs": [
    {
     "data": {
      "image/png": "[encoded data removed]",
      "text/plain": [
       "<Figure size 1000x600 with 1 Axes>"
      ]
     },
     "metadata": {},
     "output_type": "display_data"
    }
   ],
   "source": [
    "plt.figure(figsize=(10,6))\n",
    "\n",
    "# bank.resample('D').mean().days_diff.plot(label='daily')\n",
    "# bank.resample('W').mean().days_diff.plot(label='weekly')\n",
    "bank.resample('M').mean().days_diff.plot(label='monthly')\n",
    "bank.resample('Y').mean().days_diff.plot(label='yearly')\n",
    "plt.title('days difference over time')\n",
    "plt.legend()\n",
    "\n",
    "# save visual\n",
    "prepare_.save_visuals_(plt.gcf(), viz_name= \"days_difference_over_time\")\n",
    "plt.show()\n"
   ]
  },
  {
   "cell_type": "markdown",
   "id": "9aafbdf6-e424-4af2-9385-f0bdcff1a303",
   "metadata": {},
   "source": [
    "**create a year, month and day column**"
   ]
  },
  {
   "cell_type": "code",
   "execution_count": 32,
   "id": "4a581c51-4abd-4770-a89f-f72335e41307",
   "metadata": {},
   "outputs": [
    {
     "data": {
      "text/html": [
       "<div>\n",
       "<style scoped>\n",
       "    .dataframe tbody tr th:only-of-type {\n",
       "        vertical-align: middle;\n",
       "    }\n",
       "\n",
       "    .dataframe tbody tr th {\n",
       "        vertical-align: top;\n",
       "    }\n",
       "\n",
       "    .dataframe thead th {\n",
       "        text-align: right;\n",
       "    }\n",
       "</style>\n",
       "<table border=\"1\" class=\"dataframe\">\n",
       "  <thead>\n",
       "    <tr style=\"text-align: right;\">\n",
       "      <th></th>\n",
       "      <th>bank_name</th>\n",
       "      <th>city</th>\n",
       "      <th>state</th>\n",
       "      <th>acquiring_institution</th>\n",
       "      <th>fund</th>\n",
       "      <th>days_diff</th>\n",
       "      <th>year</th>\n",
       "      <th>month</th>\n",
       "      <th>day</th>\n",
       "      <th>month_number</th>\n",
       "      <th>weekday_number</th>\n",
       "    </tr>\n",
       "    <tr>\n",
       "      <th>closing_date</th>\n",
       "      <th></th>\n",
       "      <th></th>\n",
       "      <th></th>\n",
       "      <th></th>\n",
       "      <th></th>\n",
       "      <th></th>\n",
       "      <th></th>\n",
       "      <th></th>\n",
       "      <th></th>\n",
       "      <th></th>\n",
       "      <th></th>\n",
       "    </tr>\n",
       "  </thead>\n",
       "  <tbody>\n",
       "    <tr>\n",
       "      <th>2000-10-13</th>\n",
       "      <td>Bank of Honolulu</td>\n",
       "      <td>Honolulu</td>\n",
       "      <td>HI</td>\n",
       "      <td>Bank of the Orient</td>\n",
       "      <td>4645</td>\n",
       "      <td>62</td>\n",
       "      <td>2000</td>\n",
       "      <td>October</td>\n",
       "      <td>Friday</td>\n",
       "      <td>10</td>\n",
       "      <td>4</td>\n",
       "    </tr>\n",
       "  </tbody>\n",
       "</table>\n",
       "</div>"
      ],
      "text/plain": [
       "                     bank_name      city state acquiring_institution  fund  \\\n",
       "closing_date                                                                 \n",
       "2000-10-13    Bank of Honolulu  Honolulu    HI    Bank of the Orient  4645   \n",
       "\n",
       "              days_diff  year    month     day  month_number  weekday_number  \n",
       "closing_date                                                                  \n",
       "2000-10-13           62  2000  October  Friday            10               4  "
      ]
     },
     "execution_count": 32,
     "metadata": {},
     "output_type": "execute_result"
    }
   ],
   "source": [
    "# create a year, month, day column from the index\n",
    "bank[\"year\"] = bank.index.year\n",
    "bank[\"month\"] = bank.index.month_name()\n",
    "bank[\"day\"] = bank.index.day_name()\n",
    "\n",
    "bank[\"month_number\"] = bank.index.month\n",
    "bank[\"weekday_number\"] = bank.index.weekday\n",
    "\n",
    "bank.head(1)"
   ]
  },
  {
   "cell_type": "markdown",
   "id": "8138dab3-8b19-4fd4-9680-548bdfb15489",
   "metadata": {},
   "source": [
    "**Split data**\n",
    "\n",
    "Use percentage methode for spliting because there is no seasonality in the failing banks."
   ]
  },
  {
   "cell_type": "code",
   "execution_count": 33,
   "id": "6ad16cd3-745a-4c52-807c-6306c82ac2d1",
   "metadata": {},
   "outputs": [
    {
     "data": {
      "text/plain": [
       "(397, 511)"
      ]
     },
     "execution_count": 33,
     "metadata": {},
     "output_type": "execute_result"
    }
   ],
   "source": [
    "# data set sizes\n",
    "train_size = 0.7\n",
    "validate_size = 0.2\n",
    "test_size = 0.1\n",
    "\n",
    "# spliting index\n",
    "train_split_index = ceil(bank.shape[0] * train_size)\n",
    "validate_split_index = train_split_index + ceil(bank.shape[0] * validate_size)\n",
    "\n",
    "train_split_index,validate_split_index"
   ]
  },
  {
   "cell_type": "code",
   "execution_count": 34,
   "id": "a4d851af-757d-47c5-a359-c71e7387b8ae",
   "metadata": {},
   "outputs": [
    {
     "data": {
      "text/plain": [
       "((397, 11), (114, 11), (56, 11))"
      ]
     },
     "execution_count": 34,
     "metadata": {},
     "output_type": "execute_result"
    }
   ],
   "source": [
    "train = bank.iloc[:train_split_index]\n",
    "validate = bank.iloc[train_split_index:validate_split_index] \n",
    "test = bank.iloc[validate_split_index:]\n",
    "\n",
    "train.shape, validate.shape, test.shape"
   ]
  },
  {
   "cell_type": "code",
   "execution_count": 35,
   "id": "a56fa25e-d822-48e6-9143-73e2b8818c20",
   "metadata": {},
   "outputs": [
    {
     "data": {
      "text/plain": [
       "'Four data sets saved as .csv'"
      ]
     },
     "execution_count": 35,
     "metadata": {},
     "output_type": "execute_result"
    }
   ],
   "source": [
    "# save the split data\n",
    "prepare_.save_split_data_(cleaned_data=bank, train=train, validate=validate, test=test)"
   ]
  },
  {
   "cell_type": "markdown",
   "id": "20cfe746-d8e7-45b3-a369-419c88aec949",
   "metadata": {},
   "source": [
    "**Actions taken and take aways**\n",
    "\n",
    "- Rename columns.\n",
    "- Convert data types (closing_date).\n",
    "- Drop columns (cert).\n",
    "- Drop duplicates (0 count), some bank names are duplicated but this is because:\n",
    "    - Branches at different locations where aquired by different bank institutions.\n",
    "    - different bank locations closed on different dates.\n",
    "    - count of the duplicated bank names is 14 (they all stay in the data).\n",
    "- Plot distibution.\n",
    "    - Not normal distribution.\n",
    "- Set and sort date index.\n",
    "- Check for gaps in time (7975 days missing).\n",
    "    - Erliest time (oct 13, 2000).\n",
    "    - Latest time (May 1, 2023).\n",
    "- Create a time target.\n",
    "    - The time target is the difference in day between one closing date to the next.\n",
    "- Use percentage based spliting.\n",
    "    - Because there is no seasonality in the failing banks."
   ]
  }
 ],
 "metadata": {
  "kernelspec": {
   "display_name": "Python 3 (ipykernel)",
   "language": "python",
   "name": "python3"
  },
  "language_info": {
   "codemirror_mode": {
    "name": "ipython",
    "version": 3
   },
   "file_extension": ".py",
   "mimetype": "text/x-python",
   "name": "python",
   "nbconvert_exporter": "python",
   "pygments_lexer": "ipython3",
   "version": "3.10.9"
  }
 },
 "nbformat": 4,
 "nbformat_minor": 5
}
