{
 "cells": [
  {
   "cell_type": "markdown",
   "id": "03431c77-4cc3-4807-9231-3dfd3b9d9b13",
   "metadata": {},
   "source": [
    "## Accquire\n",
    "\n",
    "**imports**"
   ]
  },
  {
   "cell_type": "code",
   "execution_count": 17,
   "id": "a113ea8a-30e2-4b55-ae58-11c156d95e3a",
   "metadata": {},
   "outputs": [],
   "source": [
    "# data manipulation\n",
    "import pandas as pd\n",
    "import numpy as np\n",
    "\n",
    "# data visualization\n",
    "import matplotlib.pyplot as plt\n",
    "import seaborn as sns\n",
    "\n",
    "# system manipulation\n",
    "import sys\n",
    "sys.path.append(\"./util_\")\n",
    "# import acquire_\n",
    "# import prepare_\n",
    "\n",
    "# other\n",
    "import warnings\n",
    "warnings.filterwarnings(\"ignore\")"
   ]
  },
  {
   "cell_type": "markdown",
   "id": "25d92abd-75f0-486e-9d7a-3a811f965928",
   "metadata": {},
   "source": [
    "**Get data**"
   ]
  },
  {
   "cell_type": "code",
   "execution_count": 9,
   "id": "c04ed035-2d8f-4134-91eb-1c4cd625e209",
   "metadata": {},
   "outputs": [
    {
     "data": {
      "text/html": [
       "<div>\n",
       "<style scoped>\n",
       "    .dataframe tbody tr th:only-of-type {\n",
       "        vertical-align: middle;\n",
       "    }\n",
       "\n",
       "    .dataframe tbody tr th {\n",
       "        vertical-align: top;\n",
       "    }\n",
       "\n",
       "    .dataframe thead th {\n",
       "        text-align: right;\n",
       "    }\n",
       "</style>\n",
       "<table border=\"1\" class=\"dataframe\">\n",
       "  <thead>\n",
       "    <tr style=\"text-align: right;\">\n",
       "      <th></th>\n",
       "      <th>Bank Name†</th>\n",
       "      <th>City†</th>\n",
       "      <th>State†</th>\n",
       "      <th>Cert†</th>\n",
       "      <th>Acquiring Institution†</th>\n",
       "      <th>Closing Date†</th>\n",
       "      <th>Fund</th>\n",
       "    </tr>\n",
       "  </thead>\n",
       "  <tbody>\n",
       "    <tr>\n",
       "      <th>0</th>\n",
       "      <td>First Republic Bank</td>\n",
       "      <td>San Francisco</td>\n",
       "      <td>CA</td>\n",
       "      <td>59017</td>\n",
       "      <td>JPMorgan Chase Bank, N.A.</td>\n",
       "      <td>1-May-23</td>\n",
       "      <td>10543</td>\n",
       "    </tr>\n",
       "    <tr>\n",
       "      <th>1</th>\n",
       "      <td>Signature Bank</td>\n",
       "      <td>New York</td>\n",
       "      <td>NY</td>\n",
       "      <td>57053</td>\n",
       "      <td>Flagstar Bank, N.A.</td>\n",
       "      <td>12-Mar-23</td>\n",
       "      <td>10540</td>\n",
       "    </tr>\n",
       "    <tr>\n",
       "      <th>2</th>\n",
       "      <td>Silicon Valley Bank</td>\n",
       "      <td>Santa Clara</td>\n",
       "      <td>CA</td>\n",
       "      <td>24735</td>\n",
       "      <td>FirstñCitizens Bank &amp; Trust Company</td>\n",
       "      <td>10-Mar-23</td>\n",
       "      <td>10539</td>\n",
       "    </tr>\n",
       "    <tr>\n",
       "      <th>3</th>\n",
       "      <td>Almena State Bank</td>\n",
       "      <td>Almena</td>\n",
       "      <td>KS</td>\n",
       "      <td>15426</td>\n",
       "      <td>Equity Bank</td>\n",
       "      <td>23-Oct-20</td>\n",
       "      <td>10538</td>\n",
       "    </tr>\n",
       "    <tr>\n",
       "      <th>4</th>\n",
       "      <td>First City Bank of Florida</td>\n",
       "      <td>Fort Walton Beach</td>\n",
       "      <td>FL</td>\n",
       "      <td>16748</td>\n",
       "      <td>United Fidelity Bank, fsb</td>\n",
       "      <td>16-Oct-20</td>\n",
       "      <td>10537</td>\n",
       "    </tr>\n",
       "  </tbody>\n",
       "</table>\n",
       "</div>"
      ],
      "text/plain": [
       "                   Bank Name†              City† State†  Cert†  \\\n",
       "0         First Republic Bank      San Francisco     CA  59017   \n",
       "1              Signature Bank           New York     NY  57053   \n",
       "2         Silicon Valley Bank        Santa Clara     CA  24735   \n",
       "3           Almena State Bank             Almena     KS  15426   \n",
       "4  First City Bank of Florida  Fort Walton Beach     FL  16748   \n",
       "\n",
       "                Acquiring Institution† Closing Date†   Fund  \n",
       "0            JPMorgan Chase Bank, N.A.      1-May-23  10543  \n",
       "1                  Flagstar Bank, N.A.     12-Mar-23  10540  \n",
       "2  FirstñCitizens Bank & Trust Company     10-Mar-23  10539  \n",
       "3                          Equity Bank     23-Oct-20  10538  \n",
       "4            United Fidelity Bank, fsb     16-Oct-20  10537  "
      ]
     },
     "execution_count": 9,
     "metadata": {},
     "output_type": "execute_result"
    }
   ],
   "source": [
    "bank = pd.read_csv(\"./banklist.csv\")\n",
    "bank.head()"
   ]
  },
  {
   "cell_type": "markdown",
   "id": "e6515cb7-7321-4d37-befc-212b11bafe31",
   "metadata": {},
   "source": [
    "**Understand data**"
   ]
  },
  {
   "cell_type": "code",
   "execution_count": 19,
   "id": "aa568fd2-b4c6-4cfe-842c-6f9555762901",
   "metadata": {},
   "outputs": [
    {
     "data": {
      "text/plain": [
       "(566, 7)"
      ]
     },
     "execution_count": 19,
     "metadata": {},
     "output_type": "execute_result"
    }
   ],
   "source": [
    "# look at the shape of the data\n",
    "bank.shape"
   ]
  },
  {
   "cell_type": "code",
   "execution_count": 20,
   "id": "77b3da79-d1bc-4ce0-a4ac-11a4478b535e",
   "metadata": {},
   "outputs": [
    {
     "data": {
      "text/plain": [
       "Index(['Bank Name†', 'City†', 'State†', 'Cert†', 'Acquiring Institution†',\n",
       "       'Closing Date†', 'Fund'],\n",
       "      dtype='object')"
      ]
     },
     "execution_count": 20,
     "metadata": {},
     "output_type": "execute_result"
    }
   ],
   "source": [
    "# what columns are in the data\n",
    "bank.columns"
   ]
  },
  {
   "cell_type": "code",
   "execution_count": 21,
   "id": "412c3fff-9e32-4654-b7b7-6ec6cf5601e6",
   "metadata": {},
   "outputs": [
    {
     "data": {
      "text/plain": [
       "0.0"
      ]
     },
     "execution_count": 21,
     "metadata": {},
     "output_type": "execute_result"
    }
   ],
   "source": [
    "# count all the null values\n",
    "bank.isna().sum().values.sum() / len(bank)"
   ]
  },
  {
   "cell_type": "code",
   "execution_count": 22,
   "id": "7b95c5a9-d43c-4c61-8a9e-1cff3a7340b3",
   "metadata": {},
   "outputs": [
    {
     "name": "stdout",
     "output_type": "stream",
     "text": [
      "<class 'pandas.core.frame.DataFrame'>\n",
      "RangeIndex: 566 entries, 0 to 565\n",
      "Data columns (total 7 columns):\n",
      " #   Column                  Non-Null Count  Dtype \n",
      "---  ------                  --------------  ----- \n",
      " 0   Bank Name†              566 non-null    object\n",
      " 1   City†                   566 non-null    object\n",
      " 2   State†                  566 non-null    object\n",
      " 3   Cert†                   566 non-null    int64 \n",
      " 4   Acquiring Institution†  566 non-null    object\n",
      " 5   Closing Date†           566 non-null    object\n",
      " 6   Fund                    566 non-null    int64 \n",
      "dtypes: int64(2), object(5)\n",
      "memory usage: 31.1+ KB\n"
     ]
    }
   ],
   "source": [
    "# look at the bak infromation\n",
    "bank.info()"
   ]
  },
  {
   "cell_type": "code",
   "execution_count": 23,
   "id": "b134003a-f37d-433a-8c87-cf4463e68e73",
   "metadata": {},
   "outputs": [
    {
     "data": {
      "text/html": [
       "<div>\n",
       "<style scoped>\n",
       "    .dataframe tbody tr th:only-of-type {\n",
       "        vertical-align: middle;\n",
       "    }\n",
       "\n",
       "    .dataframe tbody tr th {\n",
       "        vertical-align: top;\n",
       "    }\n",
       "\n",
       "    .dataframe thead th {\n",
       "        text-align: right;\n",
       "    }\n",
       "</style>\n",
       "<table border=\"1\" class=\"dataframe\">\n",
       "  <thead>\n",
       "    <tr style=\"text-align: right;\">\n",
       "      <th></th>\n",
       "      <th>Cert†</th>\n",
       "      <th>Fund</th>\n",
       "    </tr>\n",
       "  </thead>\n",
       "  <tbody>\n",
       "    <tr>\n",
       "      <th>count</th>\n",
       "      <td>566.000000</td>\n",
       "      <td>566.000000</td>\n",
       "    </tr>\n",
       "    <tr>\n",
       "      <th>mean</th>\n",
       "      <td>31711.392226</td>\n",
       "      <td>10039.545936</td>\n",
       "    </tr>\n",
       "    <tr>\n",
       "      <th>std</th>\n",
       "      <td>16477.485768</td>\n",
       "      <td>1112.975725</td>\n",
       "    </tr>\n",
       "    <tr>\n",
       "      <th>min</th>\n",
       "      <td>91.000000</td>\n",
       "      <td>4645.000000</td>\n",
       "    </tr>\n",
       "    <tr>\n",
       "      <th>25%</th>\n",
       "      <td>20137.000000</td>\n",
       "      <td>10117.250000</td>\n",
       "    </tr>\n",
       "    <tr>\n",
       "      <th>50%</th>\n",
       "      <td>32166.000000</td>\n",
       "      <td>10258.500000</td>\n",
       "    </tr>\n",
       "    <tr>\n",
       "      <th>75%</th>\n",
       "      <td>35377.250000</td>\n",
       "      <td>10399.750000</td>\n",
       "    </tr>\n",
       "    <tr>\n",
       "      <th>max</th>\n",
       "      <td>59017.000000</td>\n",
       "      <td>10543.000000</td>\n",
       "    </tr>\n",
       "  </tbody>\n",
       "</table>\n",
       "</div>"
      ],
      "text/plain": [
       "              Cert†          Fund\n",
       "count    566.000000    566.000000\n",
       "mean   31711.392226  10039.545936\n",
       "std    16477.485768   1112.975725\n",
       "min       91.000000   4645.000000\n",
       "25%    20137.000000  10117.250000\n",
       "50%    32166.000000  10258.500000\n",
       "75%    35377.250000  10399.750000\n",
       "max    59017.000000  10543.000000"
      ]
     },
     "execution_count": 23,
     "metadata": {},
     "output_type": "execute_result"
    }
   ],
   "source": [
    "# look at the distribution of the data\n",
    "bank.describe()"
   ]
  },
  {
   "cell_type": "code",
   "execution_count": 24,
   "id": "842edf76-a3d8-44aa-acbe-ab6443b7b876",
   "metadata": {},
   "outputs": [
    {
     "name": "stdout",
     "output_type": "stream",
     "text": [
      "Numeric col count: 2\n",
      "object col count: 5\n"
     ]
    }
   ],
   "source": [
    "# count of numeric columns and object columns\n",
    "numerics_count = len(bank.select_dtypes(\"number\").columns)\n",
    "objects_count = len(bank.select_dtypes(\"object\").columns)\n",
    "\n",
    "print(\"Numeric col count:\", numerics_count)\n",
    "print(\"object col count:\", objects_count)"
   ]
  },
  {
   "cell_type": "markdown",
   "id": "b76d01c7-6ae7-4916-a6db-d06cbdd3d2d5",
   "metadata": {},
   "source": [
    "Take aways:\n",
    "\n",
    "- I have 566 rows and 7 columns\n",
    "- 2 numeric columns and 5 string columns\n",
    "- 0 null count\n",
    "- I also have descriptive statistics of my data"
   ]
  },
  {
   "cell_type": "markdown",
   "id": "5ad96db3-484e-477b-a0c4-cdc98c59ab9c",
   "metadata": {},
   "source": [
    "## Prepare"
   ]
  },
  {
   "cell_type": "markdown",
   "id": "424ea555-7a58-4823-9c0e-6f0d03aa29bd",
   "metadata": {},
   "source": [
    "**Rename columns**"
   ]
  },
  {
   "cell_type": "code",
   "execution_count": 33,
   "id": "e5177853-2793-45f1-9d26-cbe106d467b8",
   "metadata": {},
   "outputs": [
    {
     "data": {
      "text/html": [
       "<div>\n",
       "<style scoped>\n",
       "    .dataframe tbody tr th:only-of-type {\n",
       "        vertical-align: middle;\n",
       "    }\n",
       "\n",
       "    .dataframe tbody tr th {\n",
       "        vertical-align: top;\n",
       "    }\n",
       "\n",
       "    .dataframe thead th {\n",
       "        text-align: right;\n",
       "    }\n",
       "</style>\n",
       "<table border=\"1\" class=\"dataframe\">\n",
       "  <thead>\n",
       "    <tr style=\"text-align: right;\">\n",
       "      <th></th>\n",
       "      <th>bank_name</th>\n",
       "      <th>city</th>\n",
       "      <th>state</th>\n",
       "      <th>cert</th>\n",
       "      <th>acquiring_institution</th>\n",
       "      <th>closing_date</th>\n",
       "      <th>fund</th>\n",
       "    </tr>\n",
       "  </thead>\n",
       "  <tbody>\n",
       "    <tr>\n",
       "      <th>0</th>\n",
       "      <td>First Republic Bank</td>\n",
       "      <td>San Francisco</td>\n",
       "      <td>CA</td>\n",
       "      <td>59017</td>\n",
       "      <td>JPMorgan Chase Bank, N.A.</td>\n",
       "      <td>1-May-23</td>\n",
       "      <td>10543</td>\n",
       "    </tr>\n",
       "  </tbody>\n",
       "</table>\n",
       "</div>"
      ],
      "text/plain": [
       "             bank_name           city state   cert      acquiring_institution  \\\n",
       "0  First Republic Bank  San Francisco    CA  59017  JPMorgan Chase Bank, N.A.   \n",
       "\n",
       "  closing_date   fund  \n",
       "0     1-May-23  10543  "
      ]
     },
     "execution_count": 33,
     "metadata": {},
     "output_type": "execute_result"
    }
   ],
   "source": [
    "# make the columsn lower case\n",
    "# replace spaces\n",
    "bank.columns = bank.columns.str.lower().str.replace(\"†\",\"\").str.replace(\" \",\"_\")\n",
    "bank.head(1)"
   ]
  },
  {
   "cell_type": "markdown",
   "id": "8254a94b-3ec7-4e03-9d4a-e8cf1dc3c67e",
   "metadata": {},
   "source": [
    "**Convert data types**"
   ]
  },
  {
   "cell_type": "code",
   "execution_count": 34,
   "id": "b106f274-c1ef-4543-a106-86069fa2f0c0",
   "metadata": {},
   "outputs": [
    {
     "data": {
      "text/plain": [
       "bank_name                object\n",
       "city                     object\n",
       "state                    object\n",
       "cert                      int64\n",
       "acquiring_institution    object\n",
       "closing_date             object\n",
       "fund                      int64\n",
       "dtype: object"
      ]
     },
     "execution_count": 34,
     "metadata": {},
     "output_type": "execute_result"
    }
   ],
   "source": [
    "# view datatypes\n",
    "bank.dtypes"
   ]
  },
  {
   "cell_type": "code",
   "execution_count": 45,
   "id": "0c7ce816-45c8-44e0-abba-c7da5d650bd5",
   "metadata": {},
   "outputs": [
    {
     "name": "stdout",
     "output_type": "stream",
     "text": [
      "____________________ BANK_NAME\n",
      "1    534\n",
      "2     10\n",
      "3      4\n",
      "Name: bank_name, dtype: int64\n",
      "____________________ CITY\n",
      "1     359\n",
      "2      53\n",
      "3      12\n",
      "4       6\n",
      "20      1\n",
      "10      1\n",
      "6       1\n",
      "5       1\n",
      "Name: city, dtype: int64\n",
      "____________________ STATE\n",
      "1     5\n",
      "2     5\n",
      "10    4\n",
      "4     4\n",
      "7     4\n",
      "3     3\n",
      "6     2\n",
      "8     2\n",
      "11    2\n",
      "16    2\n",
      "12    1\n",
      "76    1\n",
      "13    1\n",
      "9     1\n",
      "14    1\n",
      "19    1\n",
      "5     1\n",
      "23    1\n",
      "43    1\n",
      "69    1\n",
      "93    1\n",
      "Name: state, dtype: int64\n",
      "____________________ CERT\n",
      "1    566\n",
      "Name: cert, dtype: int64\n",
      "____________________ ACQUIRING_INSTITUTION\n",
      "1     201\n",
      "2      45\n",
      "3      22\n",
      "4      12\n",
      "5       7\n",
      "6       4\n",
      "7       3\n",
      "31      1\n",
      "12      1\n",
      "11      1\n",
      "10      1\n",
      "9       1\n",
      "8       1\n",
      "Name: acquiring_institution, dtype: int64\n",
      "____________________ CLOSING_DATE\n",
      "1    146\n",
      "2     37\n",
      "3     29\n",
      "4     20\n",
      "5     11\n",
      "7      9\n",
      "6      6\n",
      "8      2\n",
      "9      1\n",
      "Name: closing_date, dtype: int64\n",
      "____________________ FUND\n",
      "1    566\n",
      "Name: fund, dtype: int64\n"
     ]
    }
   ],
   "source": [
    "# count the unique value counts in each column\n",
    "for i in bank.columns:\n",
    "    print(\"_\" * 20, i.upper())\n",
    "    print(bank[i].value_counts().value_counts())"
   ]
  },
  {
   "cell_type": "code",
   "execution_count": 50,
   "id": "e8d6e0e9-0b13-4776-911f-74328065e897",
   "metadata": {},
   "outputs": [],
   "source": [
    "# covert closing_date data type to date time\n",
    "bank.closing_date = bank.closing_date.astype(\"datetime64\")"
   ]
  },
  {
   "cell_type": "markdown",
   "id": "97b5e438-a1c8-4dea-9a3c-d720a1555680",
   "metadata": {},
   "source": [
    "**Drop columns**"
   ]
  },
  {
   "cell_type": "code",
   "execution_count": 48,
   "id": "ae699ab7-6f42-4289-ae01-3b54c8dad4a7",
   "metadata": {},
   "outputs": [],
   "source": [
    "# remove redundent columns\n",
    "bank = bank.drop(columns=[\"cert\"])"
   ]
  },
  {
   "cell_type": "markdown",
   "id": "86dea2fc-db29-4f3b-a5c5-d32805a404a4",
   "metadata": {},
   "source": [
    "**Drop duplicates**"
   ]
  },
  {
   "cell_type": "code",
   "execution_count": null,
   "id": "c3ec02c9-6c01-4a5b-b5d7-37c2aa65958c",
   "metadata": {},
   "outputs": [],
   "source": [
    "# remove duplicated rows\n",
    "bank = bank.drop_duplicates()"
   ]
  },
  {
   "cell_type": "markdown",
   "id": "af3bbb0b-cd3d-4014-9a9c-238abba2f318",
   "metadata": {},
   "source": [
    "**Set index**"
   ]
  },
  {
   "cell_type": "code",
   "execution_count": 53,
   "id": "85219065-cecb-4861-b90f-dbacb2eb2971",
   "metadata": {},
   "outputs": [
    {
     "data": {
      "text/html": [
       "<div>\n",
       "<style scoped>\n",
       "    .dataframe tbody tr th:only-of-type {\n",
       "        vertical-align: middle;\n",
       "    }\n",
       "\n",
       "    .dataframe tbody tr th {\n",
       "        vertical-align: top;\n",
       "    }\n",
       "\n",
       "    .dataframe thead th {\n",
       "        text-align: right;\n",
       "    }\n",
       "</style>\n",
       "<table border=\"1\" class=\"dataframe\">\n",
       "  <thead>\n",
       "    <tr style=\"text-align: right;\">\n",
       "      <th></th>\n",
       "      <th>bank_name</th>\n",
       "      <th>city</th>\n",
       "      <th>state</th>\n",
       "      <th>acquiring_institution</th>\n",
       "      <th>fund</th>\n",
       "    </tr>\n",
       "    <tr>\n",
       "      <th>closing_date</th>\n",
       "      <th></th>\n",
       "      <th></th>\n",
       "      <th></th>\n",
       "      <th></th>\n",
       "      <th></th>\n",
       "    </tr>\n",
       "  </thead>\n",
       "  <tbody>\n",
       "    <tr>\n",
       "      <th>2023-05-01</th>\n",
       "      <td>First Republic Bank</td>\n",
       "      <td>San Francisco</td>\n",
       "      <td>CA</td>\n",
       "      <td>JPMorgan Chase Bank, N.A.</td>\n",
       "      <td>10543</td>\n",
       "    </tr>\n",
       "  </tbody>\n",
       "</table>\n",
       "</div>"
      ],
      "text/plain": [
       "                        bank_name           city state  \\\n",
       "closing_date                                             \n",
       "2023-05-01    First Republic Bank  San Francisco    CA   \n",
       "\n",
       "                  acquiring_institution   fund  \n",
       "closing_date                                    \n",
       "2023-05-01    JPMorgan Chase Bank, N.A.  10543  "
      ]
     },
     "execution_count": 53,
     "metadata": {},
     "output_type": "execute_result"
    }
   ],
   "source": [
    "# set the date to be the indexinf column\n",
    "bank = bank.set_index(\"closing_date\")\n",
    "bank.head(1)"
   ]
  },
  {
   "cell_type": "markdown",
   "id": "b8367497-615c-465a-ab5c-c7d37bbe2c6c",
   "metadata": {},
   "source": [
    "**Plot distributions**"
   ]
  },
  {
   "cell_type": "code",
   "execution_count": 54,
   "id": "5a47a1c5-dbff-4e77-8fed-8f0a51206620",
   "metadata": {},
   "outputs": [
    {
     "data": {
      "image/png": "[encoded data removed]",
      "text/plain": [
       "<Figure size 500x300 with 1 Axes>"
      ]
     },
     "metadata": {},
     "output_type": "display_data"
    }
   ],
   "source": [
    "#  Visualize the distribution\n",
    "plt.figure(figsize=(5,3))\n",
    "bank.fund.plot(kind=\"hist\")\n",
    "plt.title(\"bank fund distribution\".upper)\n",
    "plt.show()"
   ]
  },
  {
   "cell_type": "markdown",
   "id": "96059a96-a862-4cd2-88ee-0bb16b6fd9c0",
   "metadata": {},
   "source": [
    "**Sort datetime index**"
   ]
  },
  {
   "cell_type": "code",
   "execution_count": 56,
   "id": "d436aed2-f9d8-4aaa-868e-ad84e84b1d8c",
   "metadata": {},
   "outputs": [
    {
     "data": {
      "text/html": [
       "<div>\n",
       "<style scoped>\n",
       "    .dataframe tbody tr th:only-of-type {\n",
       "        vertical-align: middle;\n",
       "    }\n",
       "\n",
       "    .dataframe tbody tr th {\n",
       "        vertical-align: top;\n",
       "    }\n",
       "\n",
       "    .dataframe thead th {\n",
       "        text-align: right;\n",
       "    }\n",
       "</style>\n",
       "<table border=\"1\" class=\"dataframe\">\n",
       "  <thead>\n",
       "    <tr style=\"text-align: right;\">\n",
       "      <th></th>\n",
       "      <th>bank_name</th>\n",
       "      <th>city</th>\n",
       "      <th>state</th>\n",
       "      <th>acquiring_institution</th>\n",
       "      <th>fund</th>\n",
       "    </tr>\n",
       "    <tr>\n",
       "      <th>closing_date</th>\n",
       "      <th></th>\n",
       "      <th></th>\n",
       "      <th></th>\n",
       "      <th></th>\n",
       "      <th></th>\n",
       "    </tr>\n",
       "  </thead>\n",
       "  <tbody>\n",
       "    <tr>\n",
       "      <th>2000-10-13</th>\n",
       "      <td>Bank of Honolulu</td>\n",
       "      <td>Honolulu</td>\n",
       "      <td>HI</td>\n",
       "      <td>Bank of the Orient</td>\n",
       "      <td>4645</td>\n",
       "    </tr>\n",
       "    <tr>\n",
       "      <th>2000-12-14</th>\n",
       "      <td>National State Bank of Metropolis</td>\n",
       "      <td>Metropolis</td>\n",
       "      <td>IL</td>\n",
       "      <td>Banterra Bank of Marion</td>\n",
       "      <td>4646</td>\n",
       "    </tr>\n",
       "    <tr>\n",
       "      <th>2001-02-02</th>\n",
       "      <td>First Alliance Bank &amp; Trust Co.</td>\n",
       "      <td>Manchester</td>\n",
       "      <td>NH</td>\n",
       "      <td>Southern New Hampshire Bank &amp; Trust</td>\n",
       "      <td>4647</td>\n",
       "    </tr>\n",
       "    <tr>\n",
       "      <th>2001-05-03</th>\n",
       "      <td>Malta National Bank</td>\n",
       "      <td>Malta</td>\n",
       "      <td>OH</td>\n",
       "      <td>North Valley Bank</td>\n",
       "      <td>4648</td>\n",
       "    </tr>\n",
       "    <tr>\n",
       "      <th>2001-07-27</th>\n",
       "      <td>Superior Bank, FSB</td>\n",
       "      <td>Hinsdale</td>\n",
       "      <td>IL</td>\n",
       "      <td>Superior Federal, FSB</td>\n",
       "      <td>6004</td>\n",
       "    </tr>\n",
       "  </tbody>\n",
       "</table>\n",
       "</div>"
      ],
      "text/plain": [
       "                                      bank_name        city state  \\\n",
       "closing_date                                                        \n",
       "2000-10-13                     Bank of Honolulu    Honolulu    HI   \n",
       "2000-12-14    National State Bank of Metropolis  Metropolis    IL   \n",
       "2001-02-02      First Alliance Bank & Trust Co.  Manchester    NH   \n",
       "2001-05-03                  Malta National Bank       Malta    OH   \n",
       "2001-07-27                   Superior Bank, FSB    Hinsdale    IL   \n",
       "\n",
       "                            acquiring_institution  fund  \n",
       "closing_date                                             \n",
       "2000-10-13                     Bank of the Orient  4645  \n",
       "2000-12-14                Banterra Bank of Marion  4646  \n",
       "2001-02-02    Southern New Hampshire Bank & Trust  4647  \n",
       "2001-05-03                      North Valley Bank  4648  \n",
       "2001-07-27                  Superior Federal, FSB  6004  "
      ]
     },
     "execution_count": 56,
     "metadata": {},
     "output_type": "execute_result"
    }
   ],
   "source": [
    "# reset the index in order\n",
    "bank = bank.sort_index()\n",
    "bank.head()"
   ]
  },
  {
   "cell_type": "markdown",
   "id": "f2eaef30-0d1c-4343-8a96-91385b83d9ae",
   "metadata": {},
   "source": [
    "**Frequency of time**"
   ]
  },
  {
   "cell_type": "code",
   "execution_count": 65,
   "id": "d1068b17-e811-467c-a685-f5ac2c2d932b",
   "metadata": {},
   "outputs": [
    {
     "data": {
      "text/plain": [
       "2009-10-30    9\n",
       "2010-04-16    8\n",
       "2010-08-20    8\n",
       "2010-04-30    7\n",
       "2009-07-24    7\n",
       "             ..\n",
       "2010-04-09    1\n",
       "2010-05-21    1\n",
       "2010-06-11    1\n",
       "2010-06-18    1\n",
       "2023-05-01    1\n",
       "Name: closing_date, Length: 261, dtype: int64"
      ]
     },
     "execution_count": 65,
     "metadata": {},
     "output_type": "execute_result"
    }
   ],
   "source": [
    "# occurrences of each date\n",
    "bank.index.value_counts()"
   ]
  },
  {
   "cell_type": "code",
   "execution_count": 64,
   "id": "380b4bba-e0ec-4389-9465-5441b701cd53",
   "metadata": {},
   "outputs": [
    {
     "data": {
      "text/plain": [
       "1    146\n",
       "2     37\n",
       "3     29\n",
       "4     20\n",
       "5     11\n",
       "7      9\n",
       "6      6\n",
       "8      2\n",
       "9      1\n",
       "Name: closing_date, dtype: int64"
      ]
     },
     "execution_count": 64,
     "metadata": {},
     "output_type": "execute_result"
    }
   ],
   "source": [
    "# occurrences of each dates occurrence\n",
    "bank.index.value_counts().value_counts()"
   ]
  },
  {
   "cell_type": "markdown",
   "id": "b870359d-9331-41fe-a9d9-720100c7c168",
   "metadata": {},
   "source": [
    "**Check for gaps in time**"
   ]
  },
  {
   "cell_type": "code",
   "execution_count": 74,
   "id": "75600f80-5e64-45dc-89d6-30480c308044",
   "metadata": {},
   "outputs": [
    {
     "data": {
      "text/plain": [
       "Timestamp('2000-10-13 00:00:00')"
      ]
     },
     "execution_count": 74,
     "metadata": {},
     "output_type": "execute_result"
    }
   ],
   "source": [
    "# earliest date\n",
    "min_date = bank.index.min()\n",
    "min_date"
   ]
  },
  {
   "cell_type": "code",
   "execution_count": 75,
   "id": "a9209c80-8cbc-468f-b397-316b526b92ec",
   "metadata": {},
   "outputs": [
    {
     "data": {
      "text/plain": [
       "Timestamp('2023-05-01 00:00:00')"
      ]
     },
     "execution_count": 75,
     "metadata": {},
     "output_type": "execute_result"
    }
   ],
   "source": [
    "# latest date\n",
    "max_date = bank.index.max()\n",
    "max_date"
   ]
  },
  {
   "cell_type": "code",
   "execution_count": 76,
   "id": "2c921434-225f-4a8e-891a-5367b41e280b",
   "metadata": {},
   "outputs": [
    {
     "data": {
      "text/plain": [
       "(566, 261)"
      ]
     },
     "execution_count": 76,
     "metadata": {},
     "output_type": "execute_result"
    }
   ],
   "source": [
    "#see how many unique days we actually have\n",
    "bank.shape[0], bank.index.nunique()\n",
    "\n",
    "# here I see that there is a big time gap"
   ]
  },
  {
   "cell_type": "markdown",
   "id": "f247b691-9107-43c9-8939-f1e195f4e113",
   "metadata": {},
   "source": [
    "**Find the missing dates**"
   ]
  },
  {
   "cell_type": "code",
   "execution_count": 78,
   "id": "d48eb4a5-39e1-426f-bf93-1aa275dc762e",
   "metadata": {},
   "outputs": [
    {
     "data": {
      "text/plain": [
       "DatetimeIndex(['2000-10-13', '2000-10-14', '2000-10-15', '2000-10-16',\n",
       "               '2000-10-17', '2000-10-18', '2000-10-19', '2000-10-20',\n",
       "               '2000-10-21', '2000-10-22',\n",
       "               ...\n",
       "               '2023-04-22', '2023-04-23', '2023-04-24', '2023-04-25',\n",
       "               '2023-04-26', '2023-04-27', '2023-04-28', '2023-04-29',\n",
       "               '2023-04-30', '2023-05-01'],\n",
       "              dtype='datetime64[ns]', length=8236, freq='D')"
      ]
     },
     "execution_count": 78,
     "metadata": {},
     "output_type": "execute_result"
    }
   ],
   "source": [
    "#establish all the expected dates in our range\n",
    "expected_date_range = pd.date_range(min_date, max_date)\n",
    "expected_date_range"
   ]
  },
  {
   "cell_type": "code",
   "execution_count": 80,
   "id": "dc604dca-5245-4c91-8cdc-ca7b87d85609",
   "metadata": {},
   "outputs": [
    {
     "data": {
      "text/plain": [
       "7975"
      ]
     },
     "execution_count": 80,
     "metadata": {},
     "output_type": "execute_result"
    }
   ],
   "source": [
    "# now which dates are missing\n",
    "len(expected_date_range.difference(bank.index))"
   ]
  },
  {
   "cell_type": "markdown",
   "id": "dced242c-7afd-4c4a-a38a-1cf11b14013c",
   "metadata": {},
   "source": [
    "### NEXT: what do I do with the missing dates"
   ]
  },
  {
   "cell_type": "code",
   "execution_count": null,
   "id": "4c52ed5c-2d04-4197-9221-d88e4b7326d7",
   "metadata": {},
   "outputs": [],
   "source": []
  },
  {
   "cell_type": "code",
   "execution_count": null,
   "id": "e4a47785-f93d-43bb-bd4f-2353752ce184",
   "metadata": {},
   "outputs": [],
   "source": []
  },
  {
   "cell_type": "markdown",
   "id": "20cfe746-d8e7-45b3-a369-419c88aec949",
   "metadata": {},
   "source": [
    "**Actions taken and take aways**\n",
    "\n",
    "- Rename columns\n",
    "- Convert data types (closing_date)\n",
    "- Drop columns (cert)\n",
    "- Drop duplicates (0 count)\n",
    "- Plot distibution\n",
    "    - Not normal distribution\n",
    "- Set and sort date index\n",
    "- Check for gaps in time (7975 days missing)\n",
    "    - Erliest time (oct 13, 2000)\n",
    "    - Latest time (May 1, 2023)"
   ]
  },
  {
   "cell_type": "code",
   "execution_count": null,
   "id": "83b2488a-c425-4677-964f-329fff266d4f",
   "metadata": {},
   "outputs": [],
   "source": []
  }
 ],
 "metadata": {
  "kernelspec": {
   "display_name": "Python 3 (ipykernel)",
   "language": "python",
   "name": "python3"
  },
  "language_info": {
   "codemirror_mode": {
    "name": "ipython",
    "version": 3
   },
   "file_extension": ".py",
   "mimetype": "text/x-python",
   "name": "python",
   "nbconvert_exporter": "python",
   "pygments_lexer": "ipython3",
   "version": "3.10.9"
  }
 },
 "nbformat": 4,
 "nbformat_minor": 5
}
