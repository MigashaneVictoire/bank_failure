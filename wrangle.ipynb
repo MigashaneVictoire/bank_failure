{
 "cells": [
  {
   "cell_type": "markdown",
   "id": "03431c77-4cc3-4807-9231-3dfd3b9d9b13",
   "metadata": {},
   "source": [
    "## Accquire\n",
    "\n",
    "**imports**"
   ]
  },
  {
   "cell_type": "code",
   "execution_count": 17,
   "id": "a113ea8a-30e2-4b55-ae58-11c156d95e3a",
   "metadata": {},
   "outputs": [],
   "source": [
    "# data manipulation\n",
    "import pandas as pd\n",
    "import numpy as np\n",
    "\n",
    "# data visualization\n",
    "import matplotlib.pyplot as plt\n",
    "import seaborn as sns\n",
    "\n",
    "# system manipulation\n",
    "import sys\n",
    "sys.path.append(\"./util_\")\n",
    "# import acquire_\n",
    "# import prepare_\n",
    "\n",
    "# other\n",
    "import warnings\n",
    "warnings.filterwarnings(\"ignore\")"
   ]
  },
  {
   "cell_type": "markdown",
   "id": "25d92abd-75f0-486e-9d7a-3a811f965928",
   "metadata": {},
   "source": [
    "**Get data**"
   ]
  },
  {
   "cell_type": "code",
   "execution_count": 9,
   "id": "c04ed035-2d8f-4134-91eb-1c4cd625e209",
   "metadata": {},
   "outputs": [
    {
     "data": {
      "text/html": [
       "<div>\n",
       "<style scoped>\n",
       "    .dataframe tbody tr th:only-of-type {\n",
       "        vertical-align: middle;\n",
       "    }\n",
       "\n",
       "    .dataframe tbody tr th {\n",
       "        vertical-align: top;\n",
       "    }\n",
       "\n",
       "    .dataframe thead th {\n",
       "        text-align: right;\n",
       "    }\n",
       "</style>\n",
       "<table border=\"1\" class=\"dataframe\">\n",
       "  <thead>\n",
       "    <tr style=\"text-align: right;\">\n",
       "      <th></th>\n",
       "      <th>Bank Name†</th>\n",
       "      <th>City†</th>\n",
       "      <th>State†</th>\n",
       "      <th>Cert†</th>\n",
       "      <th>Acquiring Institution†</th>\n",
       "      <th>Closing Date†</th>\n",
       "      <th>Fund</th>\n",
       "    </tr>\n",
       "  </thead>\n",
       "  <tbody>\n",
       "    <tr>\n",
       "      <th>0</th>\n",
       "      <td>First Republic Bank</td>\n",
       "      <td>San Francisco</td>\n",
       "      <td>CA</td>\n",
       "      <td>59017</td>\n",
       "      <td>JPMorgan Chase Bank, N.A.</td>\n",
       "      <td>1-May-23</td>\n",
       "      <td>10543</td>\n",
       "    </tr>\n",
       "    <tr>\n",
       "      <th>1</th>\n",
       "      <td>Signature Bank</td>\n",
       "      <td>New York</td>\n",
       "      <td>NY</td>\n",
       "      <td>57053</td>\n",
       "      <td>Flagstar Bank, N.A.</td>\n",
       "      <td>12-Mar-23</td>\n",
       "      <td>10540</td>\n",
       "    </tr>\n",
       "    <tr>\n",
       "      <th>2</th>\n",
       "      <td>Silicon Valley Bank</td>\n",
       "      <td>Santa Clara</td>\n",
       "      <td>CA</td>\n",
       "      <td>24735</td>\n",
       "      <td>FirstñCitizens Bank &amp; Trust Company</td>\n",
       "      <td>10-Mar-23</td>\n",
       "      <td>10539</td>\n",
       "    </tr>\n",
       "    <tr>\n",
       "      <th>3</th>\n",
       "      <td>Almena State Bank</td>\n",
       "      <td>Almena</td>\n",
       "      <td>KS</td>\n",
       "      <td>15426</td>\n",
       "      <td>Equity Bank</td>\n",
       "      <td>23-Oct-20</td>\n",
       "      <td>10538</td>\n",
       "    </tr>\n",
       "    <tr>\n",
       "      <th>4</th>\n",
       "      <td>First City Bank of Florida</td>\n",
       "      <td>Fort Walton Beach</td>\n",
       "      <td>FL</td>\n",
       "      <td>16748</td>\n",
       "      <td>United Fidelity Bank, fsb</td>\n",
       "      <td>16-Oct-20</td>\n",
       "      <td>10537</td>\n",
       "    </tr>\n",
       "  </tbody>\n",
       "</table>\n",
       "</div>"
      ],
      "text/plain": [
       "                   Bank Name†              City† State†  Cert†  \\\n",
       "0         First Republic Bank      San Francisco     CA  59017   \n",
       "1              Signature Bank           New York     NY  57053   \n",
       "2         Silicon Valley Bank        Santa Clara     CA  24735   \n",
       "3           Almena State Bank             Almena     KS  15426   \n",
       "4  First City Bank of Florida  Fort Walton Beach     FL  16748   \n",
       "\n",
       "                Acquiring Institution† Closing Date†   Fund  \n",
       "0            JPMorgan Chase Bank, N.A.      1-May-23  10543  \n",
       "1                  Flagstar Bank, N.A.     12-Mar-23  10540  \n",
       "2  FirstñCitizens Bank & Trust Company     10-Mar-23  10539  \n",
       "3                          Equity Bank     23-Oct-20  10538  \n",
       "4            United Fidelity Bank, fsb     16-Oct-20  10537  "
      ]
     },
     "execution_count": 9,
     "metadata": {},
     "output_type": "execute_result"
    }
   ],
   "source": [
    "bank = pd.read_csv(\"./banklist.csv\")\n",
    "bank.head()"
   ]
  },
  {
   "cell_type": "markdown",
   "id": "e6515cb7-7321-4d37-befc-212b11bafe31",
   "metadata": {},
   "source": [
    "**Understand data**"
   ]
  },
  {
   "cell_type": "code",
   "execution_count": 19,
   "id": "aa568fd2-b4c6-4cfe-842c-6f9555762901",
   "metadata": {},
   "outputs": [
    {
     "data": {
      "text/plain": [
       "(566, 7)"
      ]
     },
     "execution_count": 19,
     "metadata": {},
     "output_type": "execute_result"
    }
   ],
   "source": [
    "# look at the shape of the data\n",
    "bank.shape"
   ]
  },
  {
   "cell_type": "code",
   "execution_count": 20,
   "id": "77b3da79-d1bc-4ce0-a4ac-11a4478b535e",
   "metadata": {},
   "outputs": [
    {
     "data": {
      "text/plain": [
       "Index(['Bank Name†', 'City†', 'State†', 'Cert†', 'Acquiring Institution†',\n",
       "       'Closing Date†', 'Fund'],\n",
       "      dtype='object')"
      ]
     },
     "execution_count": 20,
     "metadata": {},
     "output_type": "execute_result"
    }
   ],
   "source": [
    "# what columns are in the data\n",
    "bank.columns"
   ]
  },
  {
   "cell_type": "code",
   "execution_count": 21,
   "id": "412c3fff-9e32-4654-b7b7-6ec6cf5601e6",
   "metadata": {},
   "outputs": [
    {
     "data": {
      "text/plain": [
       "0.0"
      ]
     },
     "execution_count": 21,
     "metadata": {},
     "output_type": "execute_result"
    }
   ],
   "source": [
    "# count all the null values\n",
    "bank.isna().sum().values.sum() / len(bank)"
   ]
  },
  {
   "cell_type": "code",
   "execution_count": 22,
   "id": "7b95c5a9-d43c-4c61-8a9e-1cff3a7340b3",
   "metadata": {},
   "outputs": [
    {
     "name": "stdout",
     "output_type": "stream",
     "text": [
      "<class 'pandas.core.frame.DataFrame'>\n",
      "RangeIndex: 566 entries, 0 to 565\n",
      "Data columns (total 7 columns):\n",
      " #   Column                  Non-Null Count  Dtype \n",
      "---  ------                  --------------  ----- \n",
      " 0   Bank Name†              566 non-null    object\n",
      " 1   City†                   566 non-null    object\n",
      " 2   State†                  566 non-null    object\n",
      " 3   Cert†                   566 non-null    int64 \n",
      " 4   Acquiring Institution†  566 non-null    object\n",
      " 5   Closing Date†           566 non-null    object\n",
      " 6   Fund                    566 non-null    int64 \n",
      "dtypes: int64(2), object(5)\n",
      "memory usage: 31.1+ KB\n"
     ]
    }
   ],
   "source": [
    "# look at the bak infromation\n",
    "bank.info()"
   ]
  },
  {
   "cell_type": "code",
   "execution_count": 23,
   "id": "b134003a-f37d-433a-8c87-cf4463e68e73",
   "metadata": {},
   "outputs": [
    {
     "data": {
      "text/html": [
       "<div>\n",
       "<style scoped>\n",
       "    .dataframe tbody tr th:only-of-type {\n",
       "        vertical-align: middle;\n",
       "    }\n",
       "\n",
       "    .dataframe tbody tr th {\n",
       "        vertical-align: top;\n",
       "    }\n",
       "\n",
       "    .dataframe thead th {\n",
       "        text-align: right;\n",
       "    }\n",
       "</style>\n",
       "<table border=\"1\" class=\"dataframe\">\n",
       "  <thead>\n",
       "    <tr style=\"text-align: right;\">\n",
       "      <th></th>\n",
       "      <th>Cert†</th>\n",
       "      <th>Fund</th>\n",
       "    </tr>\n",
       "  </thead>\n",
       "  <tbody>\n",
       "    <tr>\n",
       "      <th>count</th>\n",
       "      <td>566.000000</td>\n",
       "      <td>566.000000</td>\n",
       "    </tr>\n",
       "    <tr>\n",
       "      <th>mean</th>\n",
       "      <td>31711.392226</td>\n",
       "      <td>10039.545936</td>\n",
       "    </tr>\n",
       "    <tr>\n",
       "      <th>std</th>\n",
       "      <td>16477.485768</td>\n",
       "      <td>1112.975725</td>\n",
       "    </tr>\n",
       "    <tr>\n",
       "      <th>min</th>\n",
       "      <td>91.000000</td>\n",
       "      <td>4645.000000</td>\n",
       "    </tr>\n",
       "    <tr>\n",
       "      <th>25%</th>\n",
       "      <td>20137.000000</td>\n",
       "      <td>10117.250000</td>\n",
       "    </tr>\n",
       "    <tr>\n",
       "      <th>50%</th>\n",
       "      <td>32166.000000</td>\n",
       "      <td>10258.500000</td>\n",
       "    </tr>\n",
       "    <tr>\n",
       "      <th>75%</th>\n",
       "      <td>35377.250000</td>\n",
       "      <td>10399.750000</td>\n",
       "    </tr>\n",
       "    <tr>\n",
       "      <th>max</th>\n",
       "      <td>59017.000000</td>\n",
       "      <td>10543.000000</td>\n",
       "    </tr>\n",
       "  </tbody>\n",
       "</table>\n",
       "</div>"
      ],
      "text/plain": [
       "              Cert†          Fund\n",
       "count    566.000000    566.000000\n",
       "mean   31711.392226  10039.545936\n",
       "std    16477.485768   1112.975725\n",
       "min       91.000000   4645.000000\n",
       "25%    20137.000000  10117.250000\n",
       "50%    32166.000000  10258.500000\n",
       "75%    35377.250000  10399.750000\n",
       "max    59017.000000  10543.000000"
      ]
     },
     "execution_count": 23,
     "metadata": {},
     "output_type": "execute_result"
    }
   ],
   "source": [
    "# look at the distribution of the data\n",
    "bank.describe()"
   ]
  },
  {
   "cell_type": "code",
   "execution_count": 24,
   "id": "842edf76-a3d8-44aa-acbe-ab6443b7b876",
   "metadata": {},
   "outputs": [
    {
     "name": "stdout",
     "output_type": "stream",
     "text": [
      "Numeric col count: 2\n",
      "object col count: 5\n"
     ]
    }
   ],
   "source": [
    "# count of numeric columns and object columns\n",
    "numerics_count = len(bank.select_dtypes(\"number\").columns)\n",
    "objects_count = len(bank.select_dtypes(\"object\").columns)\n",
    "\n",
    "print(\"Numeric col count:\", numerics_count)\n",
    "print(\"object col count:\", objects_count)"
   ]
  },
  {
   "cell_type": "markdown",
   "id": "b76d01c7-6ae7-4916-a6db-d06cbdd3d2d5",
   "metadata": {},
   "source": [
    "Take aways:\n",
    "\n",
    "- I have 566 rows and 7 columns\n",
    "- 2 numeric columns and 5 string columns\n",
    "- 0 null count\n",
    "- I also have descriptive statistics of my data"
   ]
  },
  {
   "cell_type": "markdown",
   "id": "5ad96db3-484e-477b-a0c4-cdc98c59ab9c",
   "metadata": {},
   "source": [
    "## Prepare"
   ]
  },
  {
   "cell_type": "code",
   "execution_count": null,
   "id": "e5177853-2793-45f1-9d26-cbe106d467b8",
   "metadata": {},
   "outputs": [],
   "source": []
  },
  {
   "cell_type": "code",
   "execution_count": null,
   "id": "2dbae63b-0a13-442d-8c10-ac43ad5d2458",
   "metadata": {},
   "outputs": [],
   "source": []
  },
  {
   "cell_type": "code",
   "execution_count": null,
   "id": "b106f274-c1ef-4543-a106-86069fa2f0c0",
   "metadata": {},
   "outputs": [],
   "source": []
  },
  {
   "cell_type": "code",
   "execution_count": null,
   "id": "0c7ce816-45c8-44e0-abba-c7da5d650bd5",
   "metadata": {},
   "outputs": [],
   "source": []
  }
 ],
 "metadata": {
  "kernelspec": {
   "display_name": "Python 3 (ipykernel)",
   "language": "python",
   "name": "python3"
  },
  "language_info": {
   "codemirror_mode": {
    "name": "ipython",
    "version": 3
   },
   "file_extension": ".py",
   "mimetype": "text/x-python",
   "name": "python",
   "nbconvert_exporter": "python",
   "pygments_lexer": "ipython3",
   "version": "3.10.9"
  }
 },
 "nbformat": 4,
 "nbformat_minor": 5
}
