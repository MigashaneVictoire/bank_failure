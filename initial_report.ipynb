{
 "cells": [
  {
   "cell_type": "markdown",
   "id": "dbc3e362-f48d-4ad7-9b91-9a402d3e2abe",
   "metadata": {},
   "source": [
    "# Bank Failure Report"
   ]
  },
  {
   "cell_type": "markdown",
   "id": "1f0b2538-284a-43e9-9a83-bde484cd0b11",
   "metadata": {},
   "source": [
    "## Goal\n",
    "\n",
    "To build a time series forecasting model that predicts future bank failure dates based on historical patterns and other relevant factors.\n",
    "\n",
    "This forecasting model could be valuable for early warning systems and risk management in the banking industry."
   ]
  },
  {
   "cell_type": "markdown",
   "id": "ada4cff1-e1bf-429f-bf4f-4d8a02408657",
   "metadata": {},
   "source": [
    "## Wrangle\n",
    "\n",
    "**Acquire**\n",
    "\n",
    "- I have 566 rows and 7 columns\n",
    "- 2 numeric columns and 5 string columns\n",
    "- 0 null count\n",
    "\n",
    "**Prepare**\n",
    "\n",
    "- Rename columns\n",
    "- Convert data types (closing_date)\n",
    "- Drop columns (cert)\n",
    "- Drop duplicates (0 count), some bank names are duplicated but this is because:\n",
    "    - Branches at different locations where aquired by different bank institutions\n",
    "    - different bank locations closed on different dates\n",
    "    - count of the duplicated bank names is 14 (they all stay in the data)\n",
    "- Plot distibution\n",
    "    - Not normal distribution\n",
    "- Set and sort date index\n",
    "- Check for gaps in time (7975 days missing)\n",
    "    - Erliest time (oct 13, 2000)\n",
    "    - Latest time (May 1, 2023)\n",
    "- Create a time target\n",
    "    - The time target is the difference in day between one closing date to the next."
   ]
  },
  {
   "cell_type": "code",
   "execution_count": null,
   "id": "34197393-d12c-4349-927b-fbd54837977e",
   "metadata": {},
   "outputs": [],
   "source": []
  }
 ],
 "metadata": {
  "kernelspec": {
   "display_name": "Python 3 (ipykernel)",
   "language": "python",
   "name": "python3"
  },
  "language_info": {
   "codemirror_mode": {
    "name": "ipython",
    "version": 3
   },
   "file_extension": ".py",
   "mimetype": "text/x-python",
   "name": "python",
   "nbconvert_exporter": "python",
   "pygments_lexer": "ipython3",
   "version": "3.10.9"
  }
 },
 "nbformat": 4,
 "nbformat_minor": 5
}
